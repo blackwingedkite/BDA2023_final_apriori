{
 "cells": [
  {
   "cell_type": "markdown",
   "metadata": {},
   "source": [
    "# 1. numpy"
   ]
  },
  {
   "cell_type": "code",
   "execution_count": 1,
   "metadata": {
    "ExecuteTime": {
     "end_time": "2022-03-29T07:49:39.143894Z",
     "start_time": "2022-03-29T07:49:35.738907Z"
    }
   },
   "outputs": [
    {
     "name": "stdout",
     "output_type": "stream",
     "text": [
      "Requirement already satisfied: numpy in /opt/anaconda3/lib/python3.7/site-packages (1.18.1)\n",
      "\u001b[33mWARNING: You are using pip version 21.1.2; however, version 22.0.4 is available.\n",
      "You should consider upgrading via the '/opt/anaconda3/bin/python -m pip install --upgrade pip' command.\u001b[0m\n"
     ]
    }
   ],
   "source": [
    "# 如果你的電腦還沒安裝numpy，請先透過python pip管理套件安裝\n",
    "!pip3 install numpy"
   ]
  },
  {
   "cell_type": "code",
   "execution_count": 2,
   "metadata": {
    "ExecuteTime": {
     "end_time": "2022-03-29T07:50:29.416754Z",
     "start_time": "2022-03-29T07:50:28.080615Z"
    }
   },
   "outputs": [
    {
     "name": "stdout",
     "output_type": "stream",
     "text": [
      "1.18.1\n"
     ]
    }
   ],
   "source": [
    "import numpy as np\n",
    "print(np.__version__)"
   ]
  },
  {
   "cell_type": "markdown",
   "metadata": {},
   "source": [
    "### np.array()"
   ]
  },
  {
   "cell_type": "markdown",
   "metadata": {},
   "source": [
    "numpy基礎資料結構的方法，用以儲存一維至多維陣列(ndarray)"
   ]
  },
  {
   "cell_type": "code",
   "execution_count": 14,
   "metadata": {
    "ExecuteTime": {
     "end_time": "2022-03-29T07:55:55.661889Z",
     "start_time": "2022-03-29T07:55:55.655941Z"
    }
   },
   "outputs": [
    {
     "name": "stdout",
     "output_type": "stream",
     "text": [
      "1\n",
      "<class 'numpy.ndarray'>\n"
     ]
    }
   ],
   "source": [
    "a = np.array(1)\n",
    "print(a)"
   ]
  },
  {
   "cell_type": "code",
   "execution_count": 12,
   "metadata": {
    "ExecuteTime": {
     "end_time": "2022-03-29T07:53:59.283799Z",
     "start_time": "2022-03-29T07:53:59.278151Z"
    }
   },
   "outputs": [
    {
     "name": "stdout",
     "output_type": "stream",
     "text": [
      "[1 2 3]\n"
     ]
    }
   ],
   "source": [
    "b = np.array([1,2,3])\n",
    "print(b)"
   ]
  },
  {
   "cell_type": "code",
   "execution_count": 13,
   "metadata": {
    "ExecuteTime": {
     "end_time": "2022-03-29T07:53:59.548143Z",
     "start_time": "2022-03-29T07:53:59.542599Z"
    }
   },
   "outputs": [
    {
     "name": "stdout",
     "output_type": "stream",
     "text": [
      "[[1 2 3]\n",
      " [4 5 6]\n",
      " [7 8 9]]\n"
     ]
    }
   ],
   "source": [
    "c = np.array([[1,2,3],[4,5,6],[7,8,9]])\n",
    "print(c)"
   ]
  },
  {
   "cell_type": "code",
   "execution_count": 15,
   "metadata": {
    "ExecuteTime": {
     "end_time": "2022-03-29T07:56:06.772962Z",
     "start_time": "2022-03-29T07:56:06.767258Z"
    }
   },
   "outputs": [
    {
     "name": "stdout",
     "output_type": "stream",
     "text": [
      "<class 'numpy.ndarray'>\n"
     ]
    }
   ],
   "source": [
    "print(type(c))"
   ]
  },
  {
   "cell_type": "markdown",
   "metadata": {},
   "source": [
    "透過ndarray進行矩陣運算"
   ]
  },
  {
   "cell_type": "code",
   "execution_count": null,
   "metadata": {},
   "outputs": [],
   "source": [
    "a = np.array([[1,2,3],[4,5,6],[7,8,9]])\n",
    "b = np.array([[1,2,3],[4,5,6],[7,8,9]])"
   ]
  },
  {
   "cell_type": "code",
   "execution_count": 44,
   "metadata": {
    "ExecuteTime": {
     "end_time": "2022-03-29T08:05:51.368050Z",
     "start_time": "2022-03-29T08:05:51.361878Z"
    }
   },
   "outputs": [
    {
     "data": {
      "text/plain": [
       "array([[ 1,  4,  9],\n",
       "       [16, 25, 36],\n",
       "       [49, 64, 81]])"
      ]
     },
     "execution_count": 44,
     "metadata": {},
     "output_type": "execute_result"
    }
   ],
   "source": [
    "a * b"
   ]
  },
  {
   "cell_type": "code",
   "execution_count": 30,
   "metadata": {
    "ExecuteTime": {
     "end_time": "2022-03-29T08:00:02.090815Z",
     "start_time": "2022-03-29T08:00:02.081199Z"
    }
   },
   "outputs": [
    {
     "data": {
      "text/plain": [
       "array([[ 30,  36,  42],\n",
       "       [ 66,  81,  96],\n",
       "       [102, 126, 150]])"
      ]
     },
     "execution_count": 30,
     "metadata": {},
     "output_type": "execute_result"
    }
   ],
   "source": [
    "a.dot(b)"
   ]
  },
  {
   "cell_type": "markdown",
   "metadata": {},
   "source": [
    "# 2. pandas"
   ]
  },
  {
   "cell_type": "code",
   "execution_count": 46,
   "metadata": {
    "ExecuteTime": {
     "end_time": "2022-03-29T08:06:28.333384Z",
     "start_time": "2022-03-29T08:06:24.757415Z"
    }
   },
   "outputs": [
    {
     "name": "stdout",
     "output_type": "stream",
     "text": [
      "Requirement already satisfied: pandas in /opt/anaconda3/lib/python3.7/site-packages (1.1.5)\n",
      "Requirement already satisfied: python-dateutil>=2.7.3 in /opt/anaconda3/lib/python3.7/site-packages (from pandas) (2.8.1)\n",
      "Requirement already satisfied: pytz>=2017.2 in /opt/anaconda3/lib/python3.7/site-packages (from pandas) (2019.3)\n",
      "Requirement already satisfied: numpy>=1.15.4 in /opt/anaconda3/lib/python3.7/site-packages (from pandas) (1.18.1)\n",
      "Requirement already satisfied: six>=1.5 in /opt/anaconda3/lib/python3.7/site-packages (from python-dateutil>=2.7.3->pandas) (1.14.0)\n",
      "\u001b[33mWARNING: You are using pip version 21.1.2; however, version 22.0.4 is available.\n",
      "You should consider upgrading via the '/opt/anaconda3/bin/python -m pip install --upgrade pip' command.\u001b[0m\n"
     ]
    }
   ],
   "source": [
    "# 如果你的電腦還沒安裝pandas，請先透過python pip管理套件安裝\n",
    "!pip3 install pandas"
   ]
  },
  {
   "cell_type": "code",
   "execution_count": 47,
   "metadata": {
    "ExecuteTime": {
     "end_time": "2022-03-29T08:06:39.264272Z",
     "start_time": "2022-03-29T08:06:38.829535Z"
    }
   },
   "outputs": [
    {
     "name": "stdout",
     "output_type": "stream",
     "text": [
      "1.1.5\n"
     ]
    }
   ],
   "source": [
    "import pandas as pd\n",
    "print(pd.__version__)"
   ]
  },
  {
   "cell_type": "markdown",
   "metadata": {},
   "source": [
    "### 透過pandas讀入csv或excel檔案"
   ]
  },
  {
   "cell_type": "code",
   "execution_count": 55,
   "metadata": {
    "ExecuteTime": {
     "end_time": "2022-03-29T08:10:51.062746Z",
     "start_time": "2022-03-29T08:10:51.045375Z"
    }
   },
   "outputs": [
    {
     "data": {
      "text/html": [
       "<div>\n",
       "<style scoped>\n",
       "    .dataframe tbody tr th:only-of-type {\n",
       "        vertical-align: middle;\n",
       "    }\n",
       "\n",
       "    .dataframe tbody tr th {\n",
       "        vertical-align: top;\n",
       "    }\n",
       "\n",
       "    .dataframe thead th {\n",
       "        text-align: right;\n",
       "    }\n",
       "</style>\n",
       "<table border=\"1\" class=\"dataframe\">\n",
       "  <thead>\n",
       "    <tr style=\"text-align: right;\">\n",
       "      <th></th>\n",
       "      <th>id</th>\n",
       "      <th>p_type</th>\n",
       "      <th>s_name</th>\n",
       "      <th>s_area_name</th>\n",
       "      <th>comment_count</th>\n",
       "      <th>post_time</th>\n",
       "      <th>title</th>\n",
       "      <th>author</th>\n",
       "      <th>content</th>\n",
       "    </tr>\n",
       "  </thead>\n",
       "  <tbody>\n",
       "    <tr>\n",
       "      <th>0</th>\n",
       "      <td>1451580710262_PTT02R</td>\n",
       "      <td>bbs</td>\n",
       "      <td>Ptt</td>\n",
       "      <td>Stock</td>\n",
       "      <td>10.0</td>\n",
       "      <td>2016/1/1 0:48</td>\n",
       "      <td>[新聞] 第三方支付 台灣普及關鍵年</td>\n",
       "      <td>Bokolo</td>\n",
       "      <td>1.原文連結(必須檢附)：\\nhttp://magazine.chinatimes.com/...</td>\n",
       "    </tr>\n",
       "    <tr>\n",
       "      <th>1</th>\n",
       "      <td>1451580711002_PTT02R</td>\n",
       "      <td>bbs</td>\n",
       "      <td>Ptt</td>\n",
       "      <td>Stock</td>\n",
       "      <td>28.0</td>\n",
       "      <td>2016/1/1 0:50</td>\n",
       "      <td>[新聞] 曾銘宗：電子支付拼5年倍增</td>\n",
       "      <td>Bokolo</td>\n",
       "      <td>1.原文連結(必須檢附)：\\nhttp://www.appledaily.com.tw/re...</td>\n",
       "    </tr>\n",
       "    <tr>\n",
       "      <th>2</th>\n",
       "      <td>1451580711248_PTT02R</td>\n",
       "      <td>bbs</td>\n",
       "      <td>Ptt</td>\n",
       "      <td>Stock</td>\n",
       "      <td>44.0</td>\n",
       "      <td>2016/1/1 0:51</td>\n",
       "      <td>[請益] 交割帳戶什麼時候會扣款??</td>\n",
       "      <td>Lawleit</td>\n",
       "      <td>寡人在手機上2014年12月30日買了生平第一支股票\\n\\n訊息顯示成交了 成交總金額約3萬...</td>\n",
       "    </tr>\n",
       "    <tr>\n",
       "      <th>3</th>\n",
       "      <td>1451581329544_PTT02R</td>\n",
       "      <td>bbs</td>\n",
       "      <td>Ptt</td>\n",
       "      <td>Stock</td>\n",
       "      <td>17.0</td>\n",
       "      <td>2016/1/1 0:56</td>\n",
       "      <td>[新聞] 睽違8年　大宇資重返2016台北電玩展</td>\n",
       "      <td>Bokolo</td>\n",
       "      <td>1.原文連結(必須檢附)：\\nhttp://www.appledaily.com.tw/re...</td>\n",
       "    </tr>\n",
       "    <tr>\n",
       "      <th>4</th>\n",
       "      <td>1451583749064_PTT02R</td>\n",
       "      <td>bbs</td>\n",
       "      <td>Ptt</td>\n",
       "      <td>Stock</td>\n",
       "      <td>33.0</td>\n",
       "      <td>2016/1/1 1:42</td>\n",
       "      <td>[新聞] 人工撮合將成歷史！ 那斯達克啟用區塊鍊</td>\n",
       "      <td>DarkerDuck</td>\n",
       "      <td>1.原文連結(必須檢附)：\\nhttp://news.ltn.com.tw/news/bus...</td>\n",
       "    </tr>\n",
       "  </tbody>\n",
       "</table>\n",
       "</div>"
      ],
      "text/plain": [
       "                     id p_type s_name s_area_name  comment_count  \\\n",
       "0  1451580710262_PTT02R    bbs    Ptt       Stock           10.0   \n",
       "1  1451580711002_PTT02R    bbs    Ptt       Stock           28.0   \n",
       "2  1451580711248_PTT02R    bbs    Ptt       Stock           44.0   \n",
       "3  1451581329544_PTT02R    bbs    Ptt       Stock           17.0   \n",
       "4  1451583749064_PTT02R    bbs    Ptt       Stock           33.0   \n",
       "\n",
       "       post_time                     title      author  \\\n",
       "0  2016/1/1 0:48        [新聞] 第三方支付 台灣普及關鍵年      Bokolo   \n",
       "1  2016/1/1 0:50        [新聞] 曾銘宗：電子支付拼5年倍增      Bokolo   \n",
       "2  2016/1/1 0:51        [請益] 交割帳戶什麼時候會扣款??     Lawleit   \n",
       "3  2016/1/1 0:56  [新聞] 睽違8年　大宇資重返2016台北電玩展      Bokolo   \n",
       "4  2016/1/1 1:42  [新聞] 人工撮合將成歷史！ 那斯達克啟用區塊鍊  DarkerDuck   \n",
       "\n",
       "                                             content  \n",
       "0  1.原文連結(必須檢附)：\\nhttp://magazine.chinatimes.com/...  \n",
       "1  1.原文連結(必須檢附)：\\nhttp://www.appledaily.com.tw/re...  \n",
       "2  寡人在手機上2014年12月30日買了生平第一支股票\\n\\n訊息顯示成交了 成交總金額約3萬...  \n",
       "3  1.原文連結(必須檢附)：\\nhttp://www.appledaily.com.tw/re...  \n",
       "4  1.原文連結(必須檢附)：\\nhttp://news.ltn.com.tw/news/bus...  "
      ]
     },
     "execution_count": 55,
     "metadata": {},
     "output_type": "execute_result"
    }
   ],
   "source": [
    "df = pd.read_csv('example.csv')\n",
    "# df = pd.read_excel('example.xlsx')\n",
    "df"
   ]
  },
  {
   "cell_type": "markdown",
   "metadata": {},
   "source": [
    "### 選取特定欄位"
   ]
  },
  {
   "cell_type": "code",
   "execution_count": 51,
   "metadata": {
    "ExecuteTime": {
     "end_time": "2022-03-29T08:08:10.301118Z",
     "start_time": "2022-03-29T08:08:10.287364Z"
    }
   },
   "outputs": [
    {
     "data": {
      "text/html": [
       "<div>\n",
       "<style scoped>\n",
       "    .dataframe tbody tr th:only-of-type {\n",
       "        vertical-align: middle;\n",
       "    }\n",
       "\n",
       "    .dataframe tbody tr th {\n",
       "        vertical-align: top;\n",
       "    }\n",
       "\n",
       "    .dataframe thead th {\n",
       "        text-align: right;\n",
       "    }\n",
       "</style>\n",
       "<table border=\"1\" class=\"dataframe\">\n",
       "  <thead>\n",
       "    <tr style=\"text-align: right;\">\n",
       "      <th></th>\n",
       "      <th>title</th>\n",
       "      <th>content</th>\n",
       "    </tr>\n",
       "  </thead>\n",
       "  <tbody>\n",
       "    <tr>\n",
       "      <th>0</th>\n",
       "      <td>[新聞] 第三方支付 台灣普及關鍵年</td>\n",
       "      <td>1.原文連結(必須檢附)：\\nhttp://magazine.chinatimes.com/...</td>\n",
       "    </tr>\n",
       "    <tr>\n",
       "      <th>1</th>\n",
       "      <td>[新聞] 曾銘宗：電子支付拼5年倍增</td>\n",
       "      <td>1.原文連結(必須檢附)：\\nhttp://www.appledaily.com.tw/re...</td>\n",
       "    </tr>\n",
       "    <tr>\n",
       "      <th>2</th>\n",
       "      <td>[請益] 交割帳戶什麼時候會扣款??</td>\n",
       "      <td>寡人在手機上2014年12月30日買了生平第一支股票\\n\\n訊息顯示成交了 成交總金額約3萬...</td>\n",
       "    </tr>\n",
       "    <tr>\n",
       "      <th>3</th>\n",
       "      <td>[新聞] 睽違8年　大宇資重返2016台北電玩展</td>\n",
       "      <td>1.原文連結(必須檢附)：\\nhttp://www.appledaily.com.tw/re...</td>\n",
       "    </tr>\n",
       "    <tr>\n",
       "      <th>4</th>\n",
       "      <td>[新聞] 人工撮合將成歷史！ 那斯達克啟用區塊鍊</td>\n",
       "      <td>1.原文連結(必須檢附)：\\nhttp://news.ltn.com.tw/news/bus...</td>\n",
       "    </tr>\n",
       "  </tbody>\n",
       "</table>\n",
       "</div>"
      ],
      "text/plain": [
       "                      title                                            content\n",
       "0        [新聞] 第三方支付 台灣普及關鍵年  1.原文連結(必須檢附)：\\nhttp://magazine.chinatimes.com/...\n",
       "1        [新聞] 曾銘宗：電子支付拼5年倍增  1.原文連結(必須檢附)：\\nhttp://www.appledaily.com.tw/re...\n",
       "2        [請益] 交割帳戶什麼時候會扣款??  寡人在手機上2014年12月30日買了生平第一支股票\\n\\n訊息顯示成交了 成交總金額約3萬...\n",
       "3  [新聞] 睽違8年　大宇資重返2016台北電玩展  1.原文連結(必須檢附)：\\nhttp://www.appledaily.com.tw/re...\n",
       "4  [新聞] 人工撮合將成歷史！ 那斯達克啟用區塊鍊  1.原文連結(必須檢附)：\\nhttp://news.ltn.com.tw/news/bus..."
      ]
     },
     "execution_count": 51,
     "metadata": {},
     "output_type": "execute_result"
    }
   ],
   "source": [
    "# 方法一\n",
    "df[['title', 'content']]"
   ]
  },
  {
   "cell_type": "code",
   "execution_count": 52,
   "metadata": {
    "ExecuteTime": {
     "end_time": "2022-03-29T08:08:41.290513Z",
     "start_time": "2022-03-29T08:08:41.280510Z"
    }
   },
   "outputs": [
    {
     "data": {
      "text/html": [
       "<div>\n",
       "<style scoped>\n",
       "    .dataframe tbody tr th:only-of-type {\n",
       "        vertical-align: middle;\n",
       "    }\n",
       "\n",
       "    .dataframe tbody tr th {\n",
       "        vertical-align: top;\n",
       "    }\n",
       "\n",
       "    .dataframe thead th {\n",
       "        text-align: right;\n",
       "    }\n",
       "</style>\n",
       "<table border=\"1\" class=\"dataframe\">\n",
       "  <thead>\n",
       "    <tr style=\"text-align: right;\">\n",
       "      <th></th>\n",
       "      <th>title</th>\n",
       "      <th>content</th>\n",
       "    </tr>\n",
       "  </thead>\n",
       "  <tbody>\n",
       "    <tr>\n",
       "      <th>0</th>\n",
       "      <td>[新聞] 第三方支付 台灣普及關鍵年</td>\n",
       "      <td>1.原文連結(必須檢附)：\\nhttp://magazine.chinatimes.com/...</td>\n",
       "    </tr>\n",
       "    <tr>\n",
       "      <th>1</th>\n",
       "      <td>[新聞] 曾銘宗：電子支付拼5年倍增</td>\n",
       "      <td>1.原文連結(必須檢附)：\\nhttp://www.appledaily.com.tw/re...</td>\n",
       "    </tr>\n",
       "    <tr>\n",
       "      <th>2</th>\n",
       "      <td>[請益] 交割帳戶什麼時候會扣款??</td>\n",
       "      <td>寡人在手機上2014年12月30日買了生平第一支股票\\n\\n訊息顯示成交了 成交總金額約3萬...</td>\n",
       "    </tr>\n",
       "    <tr>\n",
       "      <th>3</th>\n",
       "      <td>[新聞] 睽違8年　大宇資重返2016台北電玩展</td>\n",
       "      <td>1.原文連結(必須檢附)：\\nhttp://www.appledaily.com.tw/re...</td>\n",
       "    </tr>\n",
       "    <tr>\n",
       "      <th>4</th>\n",
       "      <td>[新聞] 人工撮合將成歷史！ 那斯達克啟用區塊鍊</td>\n",
       "      <td>1.原文連結(必須檢附)：\\nhttp://news.ltn.com.tw/news/bus...</td>\n",
       "    </tr>\n",
       "  </tbody>\n",
       "</table>\n",
       "</div>"
      ],
      "text/plain": [
       "                      title                                            content\n",
       "0        [新聞] 第三方支付 台灣普及關鍵年  1.原文連結(必須檢附)：\\nhttp://magazine.chinatimes.com/...\n",
       "1        [新聞] 曾銘宗：電子支付拼5年倍增  1.原文連結(必須檢附)：\\nhttp://www.appledaily.com.tw/re...\n",
       "2        [請益] 交割帳戶什麼時候會扣款??  寡人在手機上2014年12月30日買了生平第一支股票\\n\\n訊息顯示成交了 成交總金額約3萬...\n",
       "3  [新聞] 睽違8年　大宇資重返2016台北電玩展  1.原文連結(必須檢附)：\\nhttp://www.appledaily.com.tw/re...\n",
       "4  [新聞] 人工撮合將成歷史！ 那斯達克啟用區塊鍊  1.原文連結(必須檢附)：\\nhttp://news.ltn.com.tw/news/bus..."
      ]
     },
     "execution_count": 52,
     "metadata": {},
     "output_type": "execute_result"
    }
   ],
   "source": [
    "# 方法二\n",
    "df.iloc[:, [6,8]]"
   ]
  },
  {
   "cell_type": "markdown",
   "metadata": {},
   "source": [
    "### 選取特定行"
   ]
  },
  {
   "cell_type": "code",
   "execution_count": 53,
   "metadata": {
    "ExecuteTime": {
     "end_time": "2022-03-29T08:09:24.071423Z",
     "start_time": "2022-03-29T08:09:24.056043Z"
    }
   },
   "outputs": [
    {
     "data": {
      "text/html": [
       "<div>\n",
       "<style scoped>\n",
       "    .dataframe tbody tr th:only-of-type {\n",
       "        vertical-align: middle;\n",
       "    }\n",
       "\n",
       "    .dataframe tbody tr th {\n",
       "        vertical-align: top;\n",
       "    }\n",
       "\n",
       "    .dataframe thead th {\n",
       "        text-align: right;\n",
       "    }\n",
       "</style>\n",
       "<table border=\"1\" class=\"dataframe\">\n",
       "  <thead>\n",
       "    <tr style=\"text-align: right;\">\n",
       "      <th></th>\n",
       "      <th>id</th>\n",
       "      <th>p_type</th>\n",
       "      <th>s_name</th>\n",
       "      <th>s_area_name</th>\n",
       "      <th>comment_count</th>\n",
       "      <th>post_time</th>\n",
       "      <th>title</th>\n",
       "      <th>author</th>\n",
       "      <th>content</th>\n",
       "    </tr>\n",
       "  </thead>\n",
       "  <tbody>\n",
       "    <tr>\n",
       "      <th>1</th>\n",
       "      <td>1451580711002_PTT02R</td>\n",
       "      <td>bbs</td>\n",
       "      <td>Ptt</td>\n",
       "      <td>Stock</td>\n",
       "      <td>28.0</td>\n",
       "      <td>2016/1/1 0:50</td>\n",
       "      <td>[新聞] 曾銘宗：電子支付拼5年倍增</td>\n",
       "      <td>Bokolo</td>\n",
       "      <td>1.原文連結(必須檢附)：\\nhttp://www.appledaily.com.tw/re...</td>\n",
       "    </tr>\n",
       "    <tr>\n",
       "      <th>3</th>\n",
       "      <td>1451581329544_PTT02R</td>\n",
       "      <td>bbs</td>\n",
       "      <td>Ptt</td>\n",
       "      <td>Stock</td>\n",
       "      <td>17.0</td>\n",
       "      <td>2016/1/1 0:56</td>\n",
       "      <td>[新聞] 睽違8年　大宇資重返2016台北電玩展</td>\n",
       "      <td>Bokolo</td>\n",
       "      <td>1.原文連結(必須檢附)：\\nhttp://www.appledaily.com.tw/re...</td>\n",
       "    </tr>\n",
       "  </tbody>\n",
       "</table>\n",
       "</div>"
      ],
      "text/plain": [
       "                     id p_type s_name s_area_name  comment_count  \\\n",
       "1  1451580711002_PTT02R    bbs    Ptt       Stock           28.0   \n",
       "3  1451581329544_PTT02R    bbs    Ptt       Stock           17.0   \n",
       "\n",
       "       post_time                     title  author  \\\n",
       "1  2016/1/1 0:50        [新聞] 曾銘宗：電子支付拼5年倍增  Bokolo   \n",
       "3  2016/1/1 0:56  [新聞] 睽違8年　大宇資重返2016台北電玩展  Bokolo   \n",
       "\n",
       "                                             content  \n",
       "1  1.原文連結(必須檢附)：\\nhttp://www.appledaily.com.tw/re...  \n",
       "3  1.原文連結(必須檢附)：\\nhttp://www.appledaily.com.tw/re...  "
      ]
     },
     "execution_count": 53,
     "metadata": {},
     "output_type": "execute_result"
    }
   ],
   "source": [
    "df.iloc[[1,3], :]"
   ]
  },
  {
   "cell_type": "markdown",
   "metadata": {},
   "source": [
    "### 依照欄位條件篩選特定行"
   ]
  },
  {
   "cell_type": "code",
   "execution_count": 54,
   "metadata": {
    "ExecuteTime": {
     "end_time": "2022-03-29T08:09:59.443223Z",
     "start_time": "2022-03-29T08:09:59.380162Z"
    }
   },
   "outputs": [
    {
     "data": {
      "text/html": [
       "<div>\n",
       "<style scoped>\n",
       "    .dataframe tbody tr th:only-of-type {\n",
       "        vertical-align: middle;\n",
       "    }\n",
       "\n",
       "    .dataframe tbody tr th {\n",
       "        vertical-align: top;\n",
       "    }\n",
       "\n",
       "    .dataframe thead th {\n",
       "        text-align: right;\n",
       "    }\n",
       "</style>\n",
       "<table border=\"1\" class=\"dataframe\">\n",
       "  <thead>\n",
       "    <tr style=\"text-align: right;\">\n",
       "      <th></th>\n",
       "      <th>id</th>\n",
       "      <th>p_type</th>\n",
       "      <th>s_name</th>\n",
       "      <th>s_area_name</th>\n",
       "      <th>comment_count</th>\n",
       "      <th>post_time</th>\n",
       "      <th>title</th>\n",
       "      <th>author</th>\n",
       "      <th>content</th>\n",
       "    </tr>\n",
       "  </thead>\n",
       "  <tbody>\n",
       "    <tr>\n",
       "      <th>2</th>\n",
       "      <td>1451580711248_PTT02R</td>\n",
       "      <td>bbs</td>\n",
       "      <td>Ptt</td>\n",
       "      <td>Stock</td>\n",
       "      <td>44.0</td>\n",
       "      <td>2016/1/1 0:51</td>\n",
       "      <td>[請益] 交割帳戶什麼時候會扣款??</td>\n",
       "      <td>Lawleit</td>\n",
       "      <td>寡人在手機上2014年12月30日買了生平第一支股票\\n\\n訊息顯示成交了 成交總金額約3萬...</td>\n",
       "    </tr>\n",
       "    <tr>\n",
       "      <th>4</th>\n",
       "      <td>1451583749064_PTT02R</td>\n",
       "      <td>bbs</td>\n",
       "      <td>Ptt</td>\n",
       "      <td>Stock</td>\n",
       "      <td>33.0</td>\n",
       "      <td>2016/1/1 1:42</td>\n",
       "      <td>[新聞] 人工撮合將成歷史！ 那斯達克啟用區塊鍊</td>\n",
       "      <td>DarkerDuck</td>\n",
       "      <td>1.原文連結(必須檢附)：\\nhttp://news.ltn.com.tw/news/bus...</td>\n",
       "    </tr>\n",
       "  </tbody>\n",
       "</table>\n",
       "</div>"
      ],
      "text/plain": [
       "                     id p_type s_name s_area_name  comment_count  \\\n",
       "2  1451580711248_PTT02R    bbs    Ptt       Stock           44.0   \n",
       "4  1451583749064_PTT02R    bbs    Ptt       Stock           33.0   \n",
       "\n",
       "       post_time                     title      author  \\\n",
       "2  2016/1/1 0:51        [請益] 交割帳戶什麼時候會扣款??     Lawleit   \n",
       "4  2016/1/1 1:42  [新聞] 人工撮合將成歷史！ 那斯達克啟用區塊鍊  DarkerDuck   \n",
       "\n",
       "                                             content  \n",
       "2  寡人在手機上2014年12月30日買了生平第一支股票\\n\\n訊息顯示成交了 成交總金額約3萬...  \n",
       "4  1.原文連結(必須檢附)：\\nhttp://news.ltn.com.tw/news/bus...  "
      ]
     },
     "execution_count": 54,
     "metadata": {},
     "output_type": "execute_result"
    }
   ],
   "source": [
    "df[df['comment_count'] >= 30]"
   ]
  },
  {
   "cell_type": "markdown",
   "metadata": {},
   "source": [
    "### 檢查與處理空值"
   ]
  },
  {
   "cell_type": "code",
   "execution_count": 57,
   "metadata": {
    "ExecuteTime": {
     "end_time": "2022-03-29T08:12:24.889831Z",
     "start_time": "2022-03-29T08:12:24.879705Z"
    }
   },
   "outputs": [
    {
     "data": {
      "text/plain": [
       "id               False\n",
       "p_type           False\n",
       "s_name           False\n",
       "s_area_name      False\n",
       "comment_count    False\n",
       "post_time        False\n",
       "title            False\n",
       "author           False\n",
       "content          False\n",
       "dtype: bool"
      ]
     },
     "execution_count": 57,
     "metadata": {},
     "output_type": "execute_result"
    }
   ],
   "source": [
    "df.isnull().any()"
   ]
  },
  {
   "cell_type": "code",
   "execution_count": 71,
   "metadata": {
    "ExecuteTime": {
     "end_time": "2022-03-29T08:17:16.873423Z",
     "start_time": "2022-03-29T08:17:16.864901Z"
    }
   },
   "outputs": [],
   "source": [
    "# 若有空值存在，最簡單的方法就是直接刪除該筆資料\n",
    "df = df.dropna()\n",
    "df = df.reset_index(drop = True)"
   ]
  },
  {
   "cell_type": "markdown",
   "metadata": {},
   "source": [
    "### 表格合併"
   ]
  },
  {
   "cell_type": "code",
   "execution_count": 62,
   "metadata": {
    "ExecuteTime": {
     "end_time": "2022-03-29T08:15:28.132199Z",
     "start_time": "2022-03-29T08:15:28.121122Z"
    }
   },
   "outputs": [],
   "source": [
    "class1 = pd.DataFrame([['John', 20, 174, 63], \n",
    "                  ['Amy', 21, 162, 48],\n",
    "                 ['May', 20, 170, 52],\n",
    "                 ['Alan', 19, 192, 101]], columns = ['Name', 'Age', 'Height', 'Weight'])\n",
    "class2 = pd.DataFrame([['Tim', 20, 179, 65], \n",
    "                  ['Howard', 19, 186, 88],\n",
    "                 ['Austin', 24, 174, 69],\n",
    "                 ['Laura', 24, 160, 50]], columns = ['Name', 'Age', 'Height', 'Weight'])\n",
    "class1_info = pd.DataFrame([['John', 'M'], \n",
    "                  ['Amy', 'F'],\n",
    "                 ['May', 'F'],], columns = ['Name', 'Gender'])\n",
    "class1_updated = pd.DataFrame([['John', 21, 174, 67], \n",
    "                  ['Amy', 22, 162, 47],\n",
    "                 ['May', 21, 170, 54],\n",
    "                 ['Alan', 20, 192, 98]], columns = ['Name', 'Age', 'Height', 'Weight'])"
   ]
  },
  {
   "cell_type": "code",
   "execution_count": 63,
   "metadata": {
    "ExecuteTime": {
     "end_time": "2022-03-29T08:15:28.392481Z",
     "start_time": "2022-03-29T08:15:28.382242Z"
    }
   },
   "outputs": [
    {
     "data": {
      "text/html": [
       "<div>\n",
       "<style scoped>\n",
       "    .dataframe tbody tr th:only-of-type {\n",
       "        vertical-align: middle;\n",
       "    }\n",
       "\n",
       "    .dataframe tbody tr th {\n",
       "        vertical-align: top;\n",
       "    }\n",
       "\n",
       "    .dataframe thead th {\n",
       "        text-align: right;\n",
       "    }\n",
       "</style>\n",
       "<table border=\"1\" class=\"dataframe\">\n",
       "  <thead>\n",
       "    <tr style=\"text-align: right;\">\n",
       "      <th></th>\n",
       "      <th>Name</th>\n",
       "      <th>Age</th>\n",
       "      <th>Height</th>\n",
       "      <th>Weight</th>\n",
       "    </tr>\n",
       "  </thead>\n",
       "  <tbody>\n",
       "    <tr>\n",
       "      <th>0</th>\n",
       "      <td>John</td>\n",
       "      <td>20</td>\n",
       "      <td>174</td>\n",
       "      <td>63</td>\n",
       "    </tr>\n",
       "    <tr>\n",
       "      <th>1</th>\n",
       "      <td>Amy</td>\n",
       "      <td>21</td>\n",
       "      <td>162</td>\n",
       "      <td>48</td>\n",
       "    </tr>\n",
       "    <tr>\n",
       "      <th>2</th>\n",
       "      <td>May</td>\n",
       "      <td>20</td>\n",
       "      <td>170</td>\n",
       "      <td>52</td>\n",
       "    </tr>\n",
       "    <tr>\n",
       "      <th>3</th>\n",
       "      <td>Alan</td>\n",
       "      <td>19</td>\n",
       "      <td>192</td>\n",
       "      <td>101</td>\n",
       "    </tr>\n",
       "  </tbody>\n",
       "</table>\n",
       "</div>"
      ],
      "text/plain": [
       "   Name  Age  Height  Weight\n",
       "0  John   20     174      63\n",
       "1   Amy   21     162      48\n",
       "2   May   20     170      52\n",
       "3  Alan   19     192     101"
      ]
     },
     "execution_count": 63,
     "metadata": {},
     "output_type": "execute_result"
    }
   ],
   "source": [
    "class1"
   ]
  },
  {
   "cell_type": "code",
   "execution_count": 65,
   "metadata": {
    "ExecuteTime": {
     "end_time": "2022-03-29T08:16:02.747556Z",
     "start_time": "2022-03-29T08:16:02.737089Z"
    }
   },
   "outputs": [
    {
     "data": {
      "text/html": [
       "<div>\n",
       "<style scoped>\n",
       "    .dataframe tbody tr th:only-of-type {\n",
       "        vertical-align: middle;\n",
       "    }\n",
       "\n",
       "    .dataframe tbody tr th {\n",
       "        vertical-align: top;\n",
       "    }\n",
       "\n",
       "    .dataframe thead th {\n",
       "        text-align: right;\n",
       "    }\n",
       "</style>\n",
       "<table border=\"1\" class=\"dataframe\">\n",
       "  <thead>\n",
       "    <tr style=\"text-align: right;\">\n",
       "      <th></th>\n",
       "      <th>Name</th>\n",
       "      <th>Age</th>\n",
       "      <th>Height</th>\n",
       "      <th>Weight</th>\n",
       "    </tr>\n",
       "  </thead>\n",
       "  <tbody>\n",
       "    <tr>\n",
       "      <th>0</th>\n",
       "      <td>Tim</td>\n",
       "      <td>20</td>\n",
       "      <td>179</td>\n",
       "      <td>65</td>\n",
       "    </tr>\n",
       "    <tr>\n",
       "      <th>1</th>\n",
       "      <td>Howard</td>\n",
       "      <td>19</td>\n",
       "      <td>186</td>\n",
       "      <td>88</td>\n",
       "    </tr>\n",
       "    <tr>\n",
       "      <th>2</th>\n",
       "      <td>Austin</td>\n",
       "      <td>24</td>\n",
       "      <td>174</td>\n",
       "      <td>69</td>\n",
       "    </tr>\n",
       "    <tr>\n",
       "      <th>3</th>\n",
       "      <td>Laura</td>\n",
       "      <td>24</td>\n",
       "      <td>160</td>\n",
       "      <td>50</td>\n",
       "    </tr>\n",
       "  </tbody>\n",
       "</table>\n",
       "</div>"
      ],
      "text/plain": [
       "     Name  Age  Height  Weight\n",
       "0     Tim   20     179      65\n",
       "1  Howard   19     186      88\n",
       "2  Austin   24     174      69\n",
       "3   Laura   24     160      50"
      ]
     },
     "execution_count": 65,
     "metadata": {},
     "output_type": "execute_result"
    }
   ],
   "source": [
    "class2"
   ]
  },
  {
   "cell_type": "code",
   "execution_count": 81,
   "metadata": {
    "ExecuteTime": {
     "end_time": "2022-03-29T08:20:15.316681Z",
     "start_time": "2022-03-29T08:20:15.307823Z"
    }
   },
   "outputs": [
    {
     "data": {
      "text/html": [
       "<div>\n",
       "<style scoped>\n",
       "    .dataframe tbody tr th:only-of-type {\n",
       "        vertical-align: middle;\n",
       "    }\n",
       "\n",
       "    .dataframe tbody tr th {\n",
       "        vertical-align: top;\n",
       "    }\n",
       "\n",
       "    .dataframe thead th {\n",
       "        text-align: right;\n",
       "    }\n",
       "</style>\n",
       "<table border=\"1\" class=\"dataframe\">\n",
       "  <thead>\n",
       "    <tr style=\"text-align: right;\">\n",
       "      <th></th>\n",
       "      <th>Name</th>\n",
       "      <th>Gender</th>\n",
       "    </tr>\n",
       "  </thead>\n",
       "  <tbody>\n",
       "    <tr>\n",
       "      <th>0</th>\n",
       "      <td>John</td>\n",
       "      <td>M</td>\n",
       "    </tr>\n",
       "    <tr>\n",
       "      <th>1</th>\n",
       "      <td>Amy</td>\n",
       "      <td>F</td>\n",
       "    </tr>\n",
       "    <tr>\n",
       "      <th>2</th>\n",
       "      <td>May</td>\n",
       "      <td>F</td>\n",
       "    </tr>\n",
       "  </tbody>\n",
       "</table>\n",
       "</div>"
      ],
      "text/plain": [
       "   Name Gender\n",
       "0  John      M\n",
       "1   Amy      F\n",
       "2   May      F"
      ]
     },
     "execution_count": 81,
     "metadata": {},
     "output_type": "execute_result"
    }
   ],
   "source": [
    "class1_info"
   ]
  },
  {
   "cell_type": "code",
   "execution_count": 82,
   "metadata": {
    "ExecuteTime": {
     "end_time": "2022-03-29T08:20:21.802964Z",
     "start_time": "2022-03-29T08:20:21.792598Z"
    },
    "scrolled": true
   },
   "outputs": [
    {
     "data": {
      "text/html": [
       "<div>\n",
       "<style scoped>\n",
       "    .dataframe tbody tr th:only-of-type {\n",
       "        vertical-align: middle;\n",
       "    }\n",
       "\n",
       "    .dataframe tbody tr th {\n",
       "        vertical-align: top;\n",
       "    }\n",
       "\n",
       "    .dataframe thead th {\n",
       "        text-align: right;\n",
       "    }\n",
       "</style>\n",
       "<table border=\"1\" class=\"dataframe\">\n",
       "  <thead>\n",
       "    <tr style=\"text-align: right;\">\n",
       "      <th></th>\n",
       "      <th>Name</th>\n",
       "      <th>Age</th>\n",
       "      <th>Height</th>\n",
       "      <th>Weight</th>\n",
       "    </tr>\n",
       "  </thead>\n",
       "  <tbody>\n",
       "    <tr>\n",
       "      <th>0</th>\n",
       "      <td>John</td>\n",
       "      <td>21</td>\n",
       "      <td>174</td>\n",
       "      <td>67</td>\n",
       "    </tr>\n",
       "    <tr>\n",
       "      <th>1</th>\n",
       "      <td>Amy</td>\n",
       "      <td>22</td>\n",
       "      <td>162</td>\n",
       "      <td>47</td>\n",
       "    </tr>\n",
       "    <tr>\n",
       "      <th>2</th>\n",
       "      <td>May</td>\n",
       "      <td>21</td>\n",
       "      <td>170</td>\n",
       "      <td>54</td>\n",
       "    </tr>\n",
       "    <tr>\n",
       "      <th>3</th>\n",
       "      <td>Alan</td>\n",
       "      <td>20</td>\n",
       "      <td>192</td>\n",
       "      <td>98</td>\n",
       "    </tr>\n",
       "  </tbody>\n",
       "</table>\n",
       "</div>"
      ],
      "text/plain": [
       "   Name  Age  Height  Weight\n",
       "0  John   21     174      67\n",
       "1   Amy   22     162      47\n",
       "2   May   21     170      54\n",
       "3  Alan   20     192      98"
      ]
     },
     "execution_count": 82,
     "metadata": {},
     "output_type": "execute_result"
    }
   ],
   "source": [
    "class1_updated"
   ]
  },
  {
   "cell_type": "markdown",
   "metadata": {},
   "source": [
    "1. 將兩張表直接相接合併（concat)"
   ]
  },
  {
   "cell_type": "code",
   "execution_count": 70,
   "metadata": {
    "ExecuteTime": {
     "end_time": "2022-03-29T08:17:08.746984Z",
     "start_time": "2022-03-29T08:17:08.735370Z"
    }
   },
   "outputs": [
    {
     "data": {
      "text/html": [
       "<div>\n",
       "<style scoped>\n",
       "    .dataframe tbody tr th:only-of-type {\n",
       "        vertical-align: middle;\n",
       "    }\n",
       "\n",
       "    .dataframe tbody tr th {\n",
       "        vertical-align: top;\n",
       "    }\n",
       "\n",
       "    .dataframe thead th {\n",
       "        text-align: right;\n",
       "    }\n",
       "</style>\n",
       "<table border=\"1\" class=\"dataframe\">\n",
       "  <thead>\n",
       "    <tr style=\"text-align: right;\">\n",
       "      <th></th>\n",
       "      <th>Name</th>\n",
       "      <th>Age</th>\n",
       "      <th>Height</th>\n",
       "      <th>Weight</th>\n",
       "    </tr>\n",
       "  </thead>\n",
       "  <tbody>\n",
       "    <tr>\n",
       "      <th>0</th>\n",
       "      <td>John</td>\n",
       "      <td>20</td>\n",
       "      <td>174</td>\n",
       "      <td>63</td>\n",
       "    </tr>\n",
       "    <tr>\n",
       "      <th>1</th>\n",
       "      <td>Amy</td>\n",
       "      <td>21</td>\n",
       "      <td>162</td>\n",
       "      <td>48</td>\n",
       "    </tr>\n",
       "    <tr>\n",
       "      <th>2</th>\n",
       "      <td>May</td>\n",
       "      <td>20</td>\n",
       "      <td>170</td>\n",
       "      <td>52</td>\n",
       "    </tr>\n",
       "    <tr>\n",
       "      <th>3</th>\n",
       "      <td>Alan</td>\n",
       "      <td>19</td>\n",
       "      <td>192</td>\n",
       "      <td>101</td>\n",
       "    </tr>\n",
       "    <tr>\n",
       "      <th>4</th>\n",
       "      <td>Tim</td>\n",
       "      <td>20</td>\n",
       "      <td>179</td>\n",
       "      <td>65</td>\n",
       "    </tr>\n",
       "    <tr>\n",
       "      <th>5</th>\n",
       "      <td>Howard</td>\n",
       "      <td>19</td>\n",
       "      <td>186</td>\n",
       "      <td>88</td>\n",
       "    </tr>\n",
       "    <tr>\n",
       "      <th>6</th>\n",
       "      <td>Austin</td>\n",
       "      <td>24</td>\n",
       "      <td>174</td>\n",
       "      <td>69</td>\n",
       "    </tr>\n",
       "    <tr>\n",
       "      <th>7</th>\n",
       "      <td>Laura</td>\n",
       "      <td>24</td>\n",
       "      <td>160</td>\n",
       "      <td>50</td>\n",
       "    </tr>\n",
       "  </tbody>\n",
       "</table>\n",
       "</div>"
      ],
      "text/plain": [
       "     Name  Age  Height  Weight\n",
       "0    John   20     174      63\n",
       "1     Amy   21     162      48\n",
       "2     May   20     170      52\n",
       "3    Alan   19     192     101\n",
       "4     Tim   20     179      65\n",
       "5  Howard   19     186      88\n",
       "6  Austin   24     174      69\n",
       "7   Laura   24     160      50"
      ]
     },
     "execution_count": 70,
     "metadata": {},
     "output_type": "execute_result"
    }
   ],
   "source": [
    "school = pd.concat([class1, class2])\n",
    "school = school.reset_index(drop = True)\n",
    "school"
   ]
  },
  {
   "cell_type": "markdown",
   "metadata": {},
   "source": [
    "2. 將兩張表依相關欄位合併(merge)"
   ]
  },
  {
   "cell_type": "code",
   "execution_count": 73,
   "metadata": {
    "ExecuteTime": {
     "end_time": "2022-03-29T08:18:16.772957Z",
     "start_time": "2022-03-29T08:18:16.754288Z"
    }
   },
   "outputs": [
    {
     "data": {
      "text/html": [
       "<div>\n",
       "<style scoped>\n",
       "    .dataframe tbody tr th:only-of-type {\n",
       "        vertical-align: middle;\n",
       "    }\n",
       "\n",
       "    .dataframe tbody tr th {\n",
       "        vertical-align: top;\n",
       "    }\n",
       "\n",
       "    .dataframe thead th {\n",
       "        text-align: right;\n",
       "    }\n",
       "</style>\n",
       "<table border=\"1\" class=\"dataframe\">\n",
       "  <thead>\n",
       "    <tr style=\"text-align: right;\">\n",
       "      <th></th>\n",
       "      <th>Name</th>\n",
       "      <th>Age</th>\n",
       "      <th>Height</th>\n",
       "      <th>Weight</th>\n",
       "      <th>Gender</th>\n",
       "    </tr>\n",
       "  </thead>\n",
       "  <tbody>\n",
       "    <tr>\n",
       "      <th>0</th>\n",
       "      <td>John</td>\n",
       "      <td>20</td>\n",
       "      <td>174</td>\n",
       "      <td>63</td>\n",
       "      <td>M</td>\n",
       "    </tr>\n",
       "    <tr>\n",
       "      <th>1</th>\n",
       "      <td>Amy</td>\n",
       "      <td>21</td>\n",
       "      <td>162</td>\n",
       "      <td>48</td>\n",
       "      <td>F</td>\n",
       "    </tr>\n",
       "    <tr>\n",
       "      <th>2</th>\n",
       "      <td>May</td>\n",
       "      <td>20</td>\n",
       "      <td>170</td>\n",
       "      <td>52</td>\n",
       "      <td>F</td>\n",
       "    </tr>\n",
       "    <tr>\n",
       "      <th>3</th>\n",
       "      <td>Alan</td>\n",
       "      <td>19</td>\n",
       "      <td>192</td>\n",
       "      <td>101</td>\n",
       "      <td>NaN</td>\n",
       "    </tr>\n",
       "  </tbody>\n",
       "</table>\n",
       "</div>"
      ],
      "text/plain": [
       "   Name  Age  Height  Weight Gender\n",
       "0  John   20     174      63      M\n",
       "1   Amy   21     162      48      F\n",
       "2   May   20     170      52      F\n",
       "3  Alan   19     192     101    NaN"
      ]
     },
     "execution_count": 73,
     "metadata": {},
     "output_type": "execute_result"
    }
   ],
   "source": [
    "pd.merge(class1, class1_info, on = 'Name', how = 'left')"
   ]
  },
  {
   "cell_type": "code",
   "execution_count": 78,
   "metadata": {
    "ExecuteTime": {
     "end_time": "2022-03-29T08:19:02.324673Z",
     "start_time": "2022-03-29T08:19:02.310761Z"
    }
   },
   "outputs": [
    {
     "data": {
      "text/html": [
       "<div>\n",
       "<style scoped>\n",
       "    .dataframe tbody tr th:only-of-type {\n",
       "        vertical-align: middle;\n",
       "    }\n",
       "\n",
       "    .dataframe tbody tr th {\n",
       "        vertical-align: top;\n",
       "    }\n",
       "\n",
       "    .dataframe thead th {\n",
       "        text-align: right;\n",
       "    }\n",
       "</style>\n",
       "<table border=\"1\" class=\"dataframe\">\n",
       "  <thead>\n",
       "    <tr style=\"text-align: right;\">\n",
       "      <th></th>\n",
       "      <th>Name</th>\n",
       "      <th>Age</th>\n",
       "      <th>Height</th>\n",
       "      <th>Weight</th>\n",
       "      <th>Gender</th>\n",
       "    </tr>\n",
       "  </thead>\n",
       "  <tbody>\n",
       "    <tr>\n",
       "      <th>0</th>\n",
       "      <td>John</td>\n",
       "      <td>20</td>\n",
       "      <td>174</td>\n",
       "      <td>63</td>\n",
       "      <td>M</td>\n",
       "    </tr>\n",
       "    <tr>\n",
       "      <th>1</th>\n",
       "      <td>Amy</td>\n",
       "      <td>21</td>\n",
       "      <td>162</td>\n",
       "      <td>48</td>\n",
       "      <td>F</td>\n",
       "    </tr>\n",
       "    <tr>\n",
       "      <th>2</th>\n",
       "      <td>May</td>\n",
       "      <td>20</td>\n",
       "      <td>170</td>\n",
       "      <td>52</td>\n",
       "      <td>F</td>\n",
       "    </tr>\n",
       "  </tbody>\n",
       "</table>\n",
       "</div>"
      ],
      "text/plain": [
       "   Name  Age  Height  Weight Gender\n",
       "0  John   20     174      63      M\n",
       "1   Amy   21     162      48      F\n",
       "2   May   20     170      52      F"
      ]
     },
     "execution_count": 78,
     "metadata": {},
     "output_type": "execute_result"
    }
   ],
   "source": [
    "pd.merge(class1, class1_info, on = 'Name', how = 'inner')"
   ]
  },
  {
   "cell_type": "markdown",
   "metadata": {},
   "source": [
    "3. 將兩張表依索引index合併(merge)"
   ]
  },
  {
   "cell_type": "code",
   "execution_count": 80,
   "metadata": {
    "ExecuteTime": {
     "end_time": "2022-03-29T08:19:42.512619Z",
     "start_time": "2022-03-29T08:19:42.499832Z"
    }
   },
   "outputs": [
    {
     "data": {
      "text/html": [
       "<div>\n",
       "<style scoped>\n",
       "    .dataframe tbody tr th:only-of-type {\n",
       "        vertical-align: middle;\n",
       "    }\n",
       "\n",
       "    .dataframe tbody tr th {\n",
       "        vertical-align: top;\n",
       "    }\n",
       "\n",
       "    .dataframe thead th {\n",
       "        text-align: right;\n",
       "    }\n",
       "</style>\n",
       "<table border=\"1\" class=\"dataframe\">\n",
       "  <thead>\n",
       "    <tr style=\"text-align: right;\">\n",
       "      <th></th>\n",
       "      <th>Name_before</th>\n",
       "      <th>Age_before</th>\n",
       "      <th>Height_before</th>\n",
       "      <th>Weight_before</th>\n",
       "      <th>Name_after</th>\n",
       "      <th>Age_after</th>\n",
       "      <th>Height_after</th>\n",
       "      <th>Weight_after</th>\n",
       "    </tr>\n",
       "  </thead>\n",
       "  <tbody>\n",
       "    <tr>\n",
       "      <th>0</th>\n",
       "      <td>John</td>\n",
       "      <td>20</td>\n",
       "      <td>174</td>\n",
       "      <td>63</td>\n",
       "      <td>John</td>\n",
       "      <td>21</td>\n",
       "      <td>174</td>\n",
       "      <td>67</td>\n",
       "    </tr>\n",
       "    <tr>\n",
       "      <th>1</th>\n",
       "      <td>Amy</td>\n",
       "      <td>21</td>\n",
       "      <td>162</td>\n",
       "      <td>48</td>\n",
       "      <td>Amy</td>\n",
       "      <td>22</td>\n",
       "      <td>162</td>\n",
       "      <td>47</td>\n",
       "    </tr>\n",
       "    <tr>\n",
       "      <th>2</th>\n",
       "      <td>May</td>\n",
       "      <td>20</td>\n",
       "      <td>170</td>\n",
       "      <td>52</td>\n",
       "      <td>May</td>\n",
       "      <td>21</td>\n",
       "      <td>170</td>\n",
       "      <td>54</td>\n",
       "    </tr>\n",
       "    <tr>\n",
       "      <th>3</th>\n",
       "      <td>Alan</td>\n",
       "      <td>19</td>\n",
       "      <td>192</td>\n",
       "      <td>101</td>\n",
       "      <td>Alan</td>\n",
       "      <td>20</td>\n",
       "      <td>192</td>\n",
       "      <td>98</td>\n",
       "    </tr>\n",
       "  </tbody>\n",
       "</table>\n",
       "</div>"
      ],
      "text/plain": [
       "  Name_before  Age_before  Height_before  Weight_before Name_after  Age_after  \\\n",
       "0        John          20            174             63       John         21   \n",
       "1         Amy          21            162             48        Amy         22   \n",
       "2         May          20            170             52        May         21   \n",
       "3        Alan          19            192            101       Alan         20   \n",
       "\n",
       "   Height_after  Weight_after  \n",
       "0           174            67  \n",
       "1           162            47  \n",
       "2           170            54  \n",
       "3           192            98  "
      ]
     },
     "execution_count": 80,
     "metadata": {},
     "output_type": "execute_result"
    }
   ],
   "source": [
    "class1.join(class1_updated, lsuffix='_before', rsuffix = '_after')"
   ]
  },
  {
   "cell_type": "markdown",
   "metadata": {},
   "source": [
    "### 寫出檔案"
   ]
  },
  {
   "cell_type": "code",
   "execution_count": null,
   "metadata": {},
   "outputs": [],
   "source": [
    "school.to_csv('school.csv', index = False)"
   ]
  },
  {
   "cell_type": "markdown",
   "metadata": {},
   "source": [
    "# 3. monpa"
   ]
  },
  {
   "cell_type": "code",
   "execution_count": 83,
   "metadata": {
    "ExecuteTime": {
     "end_time": "2022-03-29T08:25:20.964885Z",
     "start_time": "2022-03-29T08:25:17.416538Z"
    }
   },
   "outputs": [
    {
     "name": "stdout",
     "output_type": "stream",
     "text": [
      "Requirement already satisfied: pandas in /opt/anaconda3/lib/python3.7/site-packages (1.1.5)\n",
      "Requirement already satisfied: pytz>=2017.2 in /opt/anaconda3/lib/python3.7/site-packages (from pandas) (2019.3)\n",
      "Requirement already satisfied: numpy>=1.15.4 in /opt/anaconda3/lib/python3.7/site-packages (from pandas) (1.18.1)\n",
      "Requirement already satisfied: python-dateutil>=2.7.3 in /opt/anaconda3/lib/python3.7/site-packages (from pandas) (2.8.1)\n",
      "Requirement already satisfied: six>=1.5 in /opt/anaconda3/lib/python3.7/site-packages (from python-dateutil>=2.7.3->pandas) (1.14.0)\n",
      "\u001b[33mWARNING: You are using pip version 21.1.2; however, version 22.0.4 is available.\n",
      "You should consider upgrading via the '/opt/anaconda3/bin/python -m pip install --upgrade pip' command.\u001b[0m\n"
     ]
    }
   ],
   "source": [
    "# 如果你的電腦還沒安裝monpa，可以透過python pip管理套件安裝\n",
    "!pip3 install pandas"
   ]
  },
  {
   "cell_type": "code",
   "execution_count": 84,
   "metadata": {
    "ExecuteTime": {
     "end_time": "2022-03-29T08:25:26.075608Z",
     "start_time": "2022-03-29T08:25:20.968596Z"
    }
   },
   "outputs": [
    {
     "name": "stdout",
     "output_type": "stream",
     "text": [
      "+---------------------------------------------------------------------+\n",
      "  Welcome to MONPA: Multi-Objective NER POS Annotator for Chinese\n",
      "+---------------------------------------------------------------------+\n",
      "已找到 model檔。Found model file.\n"
     ]
    }
   ],
   "source": [
    "import monpa"
   ]
  },
  {
   "cell_type": "code",
   "execution_count": 86,
   "metadata": {
    "ExecuteTime": {
     "end_time": "2022-03-29T08:25:44.915967Z",
     "start_time": "2022-03-29T08:25:44.898131Z"
    }
   },
   "outputs": [
    {
     "data": {
      "text/html": [
       "<div>\n",
       "<style scoped>\n",
       "    .dataframe tbody tr th:only-of-type {\n",
       "        vertical-align: middle;\n",
       "    }\n",
       "\n",
       "    .dataframe tbody tr th {\n",
       "        vertical-align: top;\n",
       "    }\n",
       "\n",
       "    .dataframe thead th {\n",
       "        text-align: right;\n",
       "    }\n",
       "</style>\n",
       "<table border=\"1\" class=\"dataframe\">\n",
       "  <thead>\n",
       "    <tr style=\"text-align: right;\">\n",
       "      <th></th>\n",
       "      <th>id</th>\n",
       "      <th>p_type</th>\n",
       "      <th>s_name</th>\n",
       "      <th>s_area_name</th>\n",
       "      <th>comment_count</th>\n",
       "      <th>post_time</th>\n",
       "      <th>title</th>\n",
       "      <th>author</th>\n",
       "      <th>content</th>\n",
       "    </tr>\n",
       "  </thead>\n",
       "  <tbody>\n",
       "    <tr>\n",
       "      <th>0</th>\n",
       "      <td>1451580710262_PTT02R</td>\n",
       "      <td>bbs</td>\n",
       "      <td>Ptt</td>\n",
       "      <td>Stock</td>\n",
       "      <td>10.0</td>\n",
       "      <td>2016/1/1 0:48</td>\n",
       "      <td>[新聞] 第三方支付 台灣普及關鍵年</td>\n",
       "      <td>Bokolo</td>\n",
       "      <td>1.原文連結(必須檢附)：\\nhttp://magazine.chinatimes.com/...</td>\n",
       "    </tr>\n",
       "    <tr>\n",
       "      <th>1</th>\n",
       "      <td>1451580711002_PTT02R</td>\n",
       "      <td>bbs</td>\n",
       "      <td>Ptt</td>\n",
       "      <td>Stock</td>\n",
       "      <td>28.0</td>\n",
       "      <td>2016/1/1 0:50</td>\n",
       "      <td>[新聞] 曾銘宗：電子支付拼5年倍增</td>\n",
       "      <td>Bokolo</td>\n",
       "      <td>1.原文連結(必須檢附)：\\nhttp://www.appledaily.com.tw/re...</td>\n",
       "    </tr>\n",
       "    <tr>\n",
       "      <th>2</th>\n",
       "      <td>1451580711248_PTT02R</td>\n",
       "      <td>bbs</td>\n",
       "      <td>Ptt</td>\n",
       "      <td>Stock</td>\n",
       "      <td>44.0</td>\n",
       "      <td>2016/1/1 0:51</td>\n",
       "      <td>[請益] 交割帳戶什麼時候會扣款??</td>\n",
       "      <td>Lawleit</td>\n",
       "      <td>寡人在手機上2014年12月30日買了生平第一支股票\\n\\n訊息顯示成交了 成交總金額約3萬...</td>\n",
       "    </tr>\n",
       "    <tr>\n",
       "      <th>3</th>\n",
       "      <td>1451581329544_PTT02R</td>\n",
       "      <td>bbs</td>\n",
       "      <td>Ptt</td>\n",
       "      <td>Stock</td>\n",
       "      <td>17.0</td>\n",
       "      <td>2016/1/1 0:56</td>\n",
       "      <td>[新聞] 睽違8年　大宇資重返2016台北電玩展</td>\n",
       "      <td>Bokolo</td>\n",
       "      <td>1.原文連結(必須檢附)：\\nhttp://www.appledaily.com.tw/re...</td>\n",
       "    </tr>\n",
       "    <tr>\n",
       "      <th>4</th>\n",
       "      <td>1451583749064_PTT02R</td>\n",
       "      <td>bbs</td>\n",
       "      <td>Ptt</td>\n",
       "      <td>Stock</td>\n",
       "      <td>33.0</td>\n",
       "      <td>2016/1/1 1:42</td>\n",
       "      <td>[新聞] 人工撮合將成歷史！ 那斯達克啟用區塊鍊</td>\n",
       "      <td>DarkerDuck</td>\n",
       "      <td>1.原文連結(必須檢附)：\\nhttp://news.ltn.com.tw/news/bus...</td>\n",
       "    </tr>\n",
       "  </tbody>\n",
       "</table>\n",
       "</div>"
      ],
      "text/plain": [
       "                     id p_type s_name s_area_name  comment_count  \\\n",
       "0  1451580710262_PTT02R    bbs    Ptt       Stock           10.0   \n",
       "1  1451580711002_PTT02R    bbs    Ptt       Stock           28.0   \n",
       "2  1451580711248_PTT02R    bbs    Ptt       Stock           44.0   \n",
       "3  1451581329544_PTT02R    bbs    Ptt       Stock           17.0   \n",
       "4  1451583749064_PTT02R    bbs    Ptt       Stock           33.0   \n",
       "\n",
       "       post_time                     title      author  \\\n",
       "0  2016/1/1 0:48        [新聞] 第三方支付 台灣普及關鍵年      Bokolo   \n",
       "1  2016/1/1 0:50        [新聞] 曾銘宗：電子支付拼5年倍增      Bokolo   \n",
       "2  2016/1/1 0:51        [請益] 交割帳戶什麼時候會扣款??     Lawleit   \n",
       "3  2016/1/1 0:56  [新聞] 睽違8年　大宇資重返2016台北電玩展      Bokolo   \n",
       "4  2016/1/1 1:42  [新聞] 人工撮合將成歷史！ 那斯達克啟用區塊鍊  DarkerDuck   \n",
       "\n",
       "                                             content  \n",
       "0  1.原文連結(必須檢附)：\\nhttp://magazine.chinatimes.com/...  \n",
       "1  1.原文連結(必須檢附)：\\nhttp://www.appledaily.com.tw/re...  \n",
       "2  寡人在手機上2014年12月30日買了生平第一支股票\\n\\n訊息顯示成交了 成交總金額約3萬...  \n",
       "3  1.原文連結(必須檢附)：\\nhttp://www.appledaily.com.tw/re...  \n",
       "4  1.原文連結(必須檢附)：\\nhttp://news.ltn.com.tw/news/bus...  "
      ]
     },
     "execution_count": 86,
     "metadata": {},
     "output_type": "execute_result"
    }
   ],
   "source": [
    "df = pd.read_csv('example.csv')\n",
    "df"
   ]
  },
  {
   "cell_type": "code",
   "execution_count": 89,
   "metadata": {
    "ExecuteTime": {
     "end_time": "2022-03-29T08:26:17.297376Z",
     "start_time": "2022-03-29T08:26:17.291062Z"
    }
   },
   "outputs": [
    {
     "data": {
      "text/plain": [
       "'寡人在手機上2014年12月30日買了生平第一支股票\\n\\n訊息顯示成交了 成交總金額約3萬5千\\n\\n收盤後查戶頭錢沒手\\n\\n後來收信說會在隔天10點前扣款\\n\\n下面還附註扣不到款會有刑責  要我把戶頭錢準備好\\n\\n但是到現在我戶頭錢還是沒少\\n\\n究竟什麼時候會扣款呢??\\n\\n--\\n'"
      ]
     },
     "execution_count": 89,
     "metadata": {},
     "output_type": "execute_result"
    }
   ],
   "source": [
    "df['content'][2]"
   ]
  },
  {
   "cell_type": "code",
   "execution_count": 90,
   "metadata": {
    "ExecuteTime": {
     "end_time": "2022-03-29T08:26:23.031245Z",
     "start_time": "2022-03-29T08:26:22.922549Z"
    }
   },
   "outputs": [
    {
     "data": {
      "text/plain": [
       "['寡人',\n",
       " '在',\n",
       " '手機',\n",
       " '上',\n",
       " '2014年',\n",
       " '12月',\n",
       " '30日',\n",
       " '買',\n",
       " '了',\n",
       " '生平',\n",
       " '第一',\n",
       " '支',\n",
       " '股票',\n",
       " ' ',\n",
       " ' ',\n",
       " '訊息',\n",
       " '顯示',\n",
       " '成交',\n",
       " '了',\n",
       " ' ',\n",
       " '成交總',\n",
       " '金額',\n",
       " '約',\n",
       " '3萬5千',\n",
       " ' ',\n",
       " ' ',\n",
       " '收盤',\n",
       " '後',\n",
       " '查',\n",
       " '戶頭錢',\n",
       " '沒',\n",
       " '手',\n",
       " ' ',\n",
       " ' ',\n",
       " '後來',\n",
       " '收信',\n",
       " '說',\n",
       " '會',\n",
       " '在',\n",
       " '隔天',\n",
       " '10',\n",
       " '點',\n",
       " '前',\n",
       " '扣款',\n",
       " ' ',\n",
       " ' ',\n",
       " '下面',\n",
       " '還',\n",
       " '附',\n",
       " '註扣',\n",
       " '不',\n",
       " '到',\n",
       " '款',\n",
       " '會',\n",
       " '有',\n",
       " '刑責',\n",
       " ' ',\n",
       " ' ',\n",
       " '要',\n",
       " '我',\n",
       " '把',\n",
       " '戶頭錢',\n",
       " '準備',\n",
       " '好',\n",
       " ' ',\n",
       " ' ',\n",
       " '但是',\n",
       " '到',\n",
       " '現在',\n",
       " '我',\n",
       " '戶頭錢',\n",
       " '還是',\n",
       " '沒',\n",
       " '少',\n",
       " ' ',\n",
       " ' ',\n",
       " '究',\n",
       " '竟',\n",
       " '什麼',\n",
       " '時候',\n",
       " '會',\n",
       " '扣款',\n",
       " '呢',\n",
       " '?',\n",
       " '?',\n",
       " ' ',\n",
       " ' ',\n",
       " '-',\n",
       " '-']"
      ]
     },
     "execution_count": 90,
     "metadata": {},
     "output_type": "execute_result"
    }
   ],
   "source": [
    "tokens = monpa.cut(df['content'][2])\n",
    "tokens"
   ]
  },
  {
   "cell_type": "code",
   "execution_count": 93,
   "metadata": {
    "ExecuteTime": {
     "end_time": "2022-03-29T08:26:50.638482Z",
     "start_time": "2022-03-29T08:26:50.632061Z"
    }
   },
   "outputs": [
    {
     "data": {
      "text/plain": [
       "'1.原文連結(必須檢附)：\\nhttp://magazine.chinatimes.com/moneyweekly/20151231003706-300201\\n\\n2.原文內容：\\n第三方支付專法上路，看好市場龐大商機，遊戲廠商、銀行業者紛紛搶進，如針對陸客推\\n出「手機掃碼支付」，以及讓消費者能在線上藉由銀行帳戶即完成電子商務支付。\\n\\n網路興起之後，電商蓬勃發展，其中第三方支付也隨之興起，去(2015)年台灣通過第三方\\n支付專法，下半年多數廠商紛紛取得執照，今年可望付諸應用，因此外界預估，2016將會\\n是第三方支付在台灣普及的關鍵一年。\\n\\n遊戲廠商近幾個月以來積極搶進第三方支付市場，對營收挹注明顯，橘子(6180)成為大贏\\n家，橘子十一月營收表現出色，智冠(5478)、歐買尬(3687)等第三方支付相關廠商十一月\\n業績則大多持穩。\\n\\n橘子十一月財報顯示，其營收8.93億元，月增12.7％、年增5.9％，為去年單月營收次高\\n、歷年同期新高；前十一月合併營收88.48億元，年增7.2％，預估今年營收可望突破百億\\n元大關。\\n\\n智冠十一月營收12.11億元，月減1.8％、年增4.9％。十二月取得第三方支付執照，旗下\\n支付子公司智付寶也已開始運作，同樣將在今年首季提供相關服務。\\n\\n歐買尬十一月營收六九七三萬元，月增5.3％、年增102.5％，旗下支付子公司歐付寶已取\\n得第三方支付執照，日前支付App也搶先上線。\\n\\n遊戲商銀行爭奪第三方支付市場\\n\\n除了遊戲廠商，銀行也搶進第三方支付市場。玉山銀行與螞蟻金服集團旗下支付寶合作，\\n針對來台旅遊陸客推出「手機掃碼支付」跨境Ｏ２Ｏ創新金融服務，陸客只要透過支付寶\\n錢包，就可以在台灣各大百貨、連鎖超商、夜市、商圈等進行消費，預計將有超過五千家\\n商店加入手機掃碼支付行列，為全台提供最多商戶使用的銀行。\\n\\n玉山銀行指出，為推廣更多陸客來台使用，日前搭配雙十二話題，支付寶推出雙十二活動\\n，包含百貨、超商、名特產店等，使用支付寶付款可獲得八折以上的優惠，夜市商圈更有\\n一元享美食活動，每位支付寶用戶皆可以一元人民幣兌換一百元新台幣以下的夜市美食，\\n雙十二當天更祭出合作商家最低五折的優惠，全額由支付寶贊助，行銷台灣的美食與商圈\\n。\\n\\n玉山銀行聚焦金融創新，提供最好的數位金融服務，與支付寶合作，提供陸客最熟悉的支\\n付服務。陸客來台消費只要出示支付寶手機條碼，過刷商店的收銀機或行動裝置App，即\\n可立即付款。小攤商則可直接掃描商家QRcode，輸入新台幣金額，就能完成結帳程序，商\\n家也可同時收到付款通知，目前包含屈臣氏等美妝店以及寧夏夜市等著名商圈，皆已開始\\n有陸客使用支付寶交易，對國內消費市場與產業發展都將是一大利器。\\n\\n電商龍頭商店街市集(4965)旗下子公司PChomePay支付連，與台灣票據交換所、上海商銀\\n共同宣布推出首創全台電子商務網路支付，以eACH平台進行銀行帳戶線上扣款服務。\\n\\n電子支付終極 綁定銀行帳戶\\n\\nPChomePay支付連自推出線上立即開通信用卡刷卡服務後，讓台灣的微型商家和個人賣家\\n能夠接受信用卡付款，為加速完成電子商務交易的速度，即日起再推出「PChomePay支付\\n連銀行支付」服務，讓網購交易更快速、便利。\\n\\n透過「PChomePay支付連銀行支付」服務，露天拍賣買家即可線上立即申請台灣票據交換\\n所的電子化授權交易(eDDA)，完成線上認證、設定帳戶後，可享有銀行帳戶立即扣款\\n(eACH)的服務，讓買家可透過PChomePay支付連的銀行支付服務，於線上就能快速藉由銀\\n行帳戶以完成電子商務的支付，體驗快捷、安心、便利的網路交易經驗。\\n\\nPChomePay支付連董事長詹宏志表示，「綁定銀行帳戶已是全世界電子支付的終極型態，\\n也是電子支付發展的最後型態，對支付連來說也是最重要的一步；金錢的移動從過去的個\\n人支票，演化到金融卡，現在則是透過銀行帳戶綁定，將電子支付完成緊密的串接。因為\\n透過這個服務，錢的移動是以最無障礙、最自然的方式在移轉，讓使用者不需要每次都輸\\n入帳號，也不用留下帳戶資料給成千上萬的賣家，是最便利且安全的支付方式，也讓台灣\\n電子支付真正做到無縫接軌。」\\n\\n3.心得/評論(必需填寫)：\\n嘿~~~沒人來PO小弟就來亂啦~~~~~~~~~~好新聞難找，就繼續找跟第三方支付有關der\\n\\n哈哈，各位股神新年快樂呀~~~~~!\\n\\n話說第三方支付的新聞又開始有一些些惹，等會再PO第二篇~~~\\n有的朋友很看好PCHOME，不知道未來拿到執照後上路會怎樣~~~101這次煙火真漂亮\\n\\n--\\n'"
      ]
     },
     "execution_count": 93,
     "metadata": {},
     "output_type": "execute_result"
    }
   ],
   "source": [
    "df['content'][0]"
   ]
  },
  {
   "cell_type": "code",
   "execution_count": 95,
   "metadata": {
    "ExecuteTime": {
     "end_time": "2022-03-29T08:26:59.960011Z",
     "start_time": "2022-03-29T08:26:59.948658Z"
    }
   },
   "outputs": [],
   "source": [
    "from monpa import utils"
   ]
  },
  {
   "cell_type": "code",
   "execution_count": 96,
   "metadata": {
    "ExecuteTime": {
     "end_time": "2022-03-29T08:27:01.213332Z",
     "start_time": "2022-03-29T08:27:00.427843Z"
    }
   },
   "outputs": [
    {
     "data": {
      "text/plain": [
       "['1',\n",
       " '.',\n",
       " '原文',\n",
       " '連結',\n",
       " '(',\n",
       " '必須',\n",
       " '檢附',\n",
       " ')',\n",
       " '：',\n",
       " ' ',\n",
       " 'http://magazine.chinatimes.com/moneyweekly/20151231003706',\n",
       " '-',\n",
       " '300201',\n",
       " ' ',\n",
       " ' ',\n",
       " '2',\n",
       " '.',\n",
       " '原文',\n",
       " '內容',\n",
       " '：',\n",
       " ' ',\n",
       " '第三',\n",
       " '方',\n",
       " '支付',\n",
       " '專法',\n",
       " '上路',\n",
       " '，',\n",
       " '看好',\n",
       " '市場',\n",
       " '龐大',\n",
       " '商機',\n",
       " '，',\n",
       " '遊戲',\n",
       " '廠商',\n",
       " '、',\n",
       " '銀行',\n",
       " '業者',\n",
       " '紛紛',\n",
       " '搶進',\n",
       " '，',\n",
       " '如',\n",
       " '針對',\n",
       " '陸客',\n",
       " '推',\n",
       " ' 出',\n",
       " '「',\n",
       " '手機',\n",
       " '掃碼',\n",
       " '支付',\n",
       " '」',\n",
       " '，',\n",
       " '以及',\n",
       " '讓',\n",
       " '消費者',\n",
       " '能',\n",
       " '在',\n",
       " '線',\n",
       " '上',\n",
       " '藉由',\n",
       " '銀行',\n",
       " '帳戶',\n",
       " '即',\n",
       " '完成',\n",
       " '電子',\n",
       " '商務',\n",
       " '支付',\n",
       " '。',\n",
       " '網路',\n",
       " '興起',\n",
       " '之後',\n",
       " '，',\n",
       " '電商',\n",
       " '蓬勃',\n",
       " '發展',\n",
       " '，',\n",
       " '其中',\n",
       " '第三',\n",
       " '方',\n",
       " '支付',\n",
       " '也',\n",
       " '隨之',\n",
       " '興起',\n",
       " '，',\n",
       " '去',\n",
       " '(',\n",
       " '2015',\n",
       " ')',\n",
       " '年',\n",
       " '台灣',\n",
       " '通過',\n",
       " '第三',\n",
       " '方',\n",
       " ' ',\n",
       " '支付',\n",
       " '專法',\n",
       " '，',\n",
       " '下',\n",
       " '半',\n",
       " '年',\n",
       " '多數',\n",
       " '廠商',\n",
       " '紛紛',\n",
       " '取得',\n",
       " '執照',\n",
       " '，',\n",
       " '今年',\n",
       " '可望',\n",
       " '付',\n",
       " '諸',\n",
       " '應用',\n",
       " '，',\n",
       " '因此',\n",
       " '外界',\n",
       " '預估',\n",
       " '，',\n",
       " '2016',\n",
       " '將',\n",
       " '會',\n",
       " ' ',\n",
       " '是',\n",
       " '第三',\n",
       " '方',\n",
       " '支付',\n",
       " '在',\n",
       " '台灣',\n",
       " '普及',\n",
       " '的',\n",
       " '關鍵',\n",
       " '一',\n",
       " '年',\n",
       " '。',\n",
       " '遊戲',\n",
       " '廠商',\n",
       " '近',\n",
       " '幾',\n",
       " '個',\n",
       " '月',\n",
       " '以來',\n",
       " '積極',\n",
       " '搶進',\n",
       " '第三',\n",
       " '方',\n",
       " '支付',\n",
       " '市場',\n",
       " '，',\n",
       " '對',\n",
       " '營收',\n",
       " '挹注',\n",
       " '明顯',\n",
       " '，',\n",
       " '橘子',\n",
       " '(',\n",
       " '6180',\n",
       " ')',\n",
       " '成為',\n",
       " '大',\n",
       " '贏',\n",
       " ' ',\n",
       " '家',\n",
       " '，',\n",
       " '橘子',\n",
       " '十一月',\n",
       " '營收',\n",
       " '表現',\n",
       " '出色',\n",
       " '，',\n",
       " '智冠',\n",
       " '(',\n",
       " '5478',\n",
       " ')',\n",
       " '、',\n",
       " '歐買尬',\n",
       " '(',\n",
       " '3687',\n",
       " ')',\n",
       " '等',\n",
       " '第三',\n",
       " '方',\n",
       " '支付',\n",
       " '相關',\n",
       " '廠商',\n",
       " '十一月',\n",
       " ' ',\n",
       " '業績',\n",
       " '則',\n",
       " '大多',\n",
       " '持穩',\n",
       " '。',\n",
       " '  ',\n",
       " '橘子',\n",
       " '十一月',\n",
       " '財報',\n",
       " '顯示',\n",
       " '，',\n",
       " '其',\n",
       " '營收',\n",
       " '8.93',\n",
       " '億',\n",
       " '元',\n",
       " '，',\n",
       " '月增',\n",
       " '12.7',\n",
       " '％',\n",
       " '、',\n",
       " '年增',\n",
       " '5.9',\n",
       " '％',\n",
       " '，',\n",
       " '為',\n",
       " '去年',\n",
       " '單月',\n",
       " '營收',\n",
       " '次',\n",
       " '高',\n",
       " ' ',\n",
       " '、',\n",
       " '歷年',\n",
       " '同期',\n",
       " '新高',\n",
       " '；',\n",
       " '前',\n",
       " '十一月',\n",
       " '合併',\n",
       " '營收',\n",
       " '88.48',\n",
       " '億',\n",
       " '元',\n",
       " '，',\n",
       " '年增',\n",
       " '7.2',\n",
       " '％',\n",
       " '，',\n",
       " '預估',\n",
       " '今年',\n",
       " '營收',\n",
       " '可望',\n",
       " '突破',\n",
       " '百億',\n",
       " ' ',\n",
       " '元',\n",
       " '大關',\n",
       " '。',\n",
       " '智冠',\n",
       " '十一月',\n",
       " '營收',\n",
       " '12.11',\n",
       " '億',\n",
       " '元',\n",
       " '，',\n",
       " '月',\n",
       " '減',\n",
       " '1.8',\n",
       " '％',\n",
       " '、',\n",
       " '年增',\n",
       " '4.9',\n",
       " '％',\n",
       " '。',\n",
       " '十二月',\n",
       " '取得',\n",
       " '第',\n",
       " '三',\n",
       " '方',\n",
       " '支付',\n",
       " '執照',\n",
       " '，',\n",
       " '旗下',\n",
       " ' ',\n",
       " '支付',\n",
       " '子公司',\n",
       " '智付寶',\n",
       " '也',\n",
       " '已',\n",
       " '開始',\n",
       " '運作',\n",
       " '，',\n",
       " '同樣',\n",
       " '將',\n",
       " '在',\n",
       " '今年',\n",
       " '首季',\n",
       " '提供',\n",
       " '相關',\n",
       " '服務',\n",
       " '。',\n",
       " '  歐',\n",
       " '買尬',\n",
       " '十一月',\n",
       " '營收',\n",
       " '六九七三萬',\n",
       " '元',\n",
       " '，',\n",
       " '月增',\n",
       " '5.3',\n",
       " '％',\n",
       " '、',\n",
       " '年增',\n",
       " '102.5',\n",
       " '％',\n",
       " '，',\n",
       " '旗下',\n",
       " '支付',\n",
       " '子公司',\n",
       " '歐付寶',\n",
       " '已',\n",
       " '取 ',\n",
       " '得',\n",
       " '第',\n",
       " '三',\n",
       " '方',\n",
       " '支付',\n",
       " '執照',\n",
       " '，',\n",
       " '日前',\n",
       " '支付',\n",
       " 'App',\n",
       " '也',\n",
       " '搶先',\n",
       " '上線',\n",
       " '。',\n",
       " ' ',\n",
       " ' ',\n",
       " '遊戲商',\n",
       " '銀行',\n",
       " '爭奪',\n",
       " '第',\n",
       " '三',\n",
       " '方',\n",
       " '支付',\n",
       " '市場',\n",
       " ' ',\n",
       " ' ',\n",
       " '除',\n",
       " '了',\n",
       " '遊戲',\n",
       " '廠商',\n",
       " '，',\n",
       " '銀行',\n",
       " '也',\n",
       " '搶進',\n",
       " '第三',\n",
       " '方',\n",
       " '支付',\n",
       " '市場',\n",
       " '。',\n",
       " '玉山銀行',\n",
       " '與',\n",
       " '螞蟻',\n",
       " '金服',\n",
       " '集團',\n",
       " '旗下',\n",
       " '支付',\n",
       " '寶',\n",
       " '合作',\n",
       " '，',\n",
       " ' ',\n",
       " '針對',\n",
       " '來',\n",
       " '台',\n",
       " '旅遊',\n",
       " '陸客',\n",
       " '推出',\n",
       " '「',\n",
       " '手機',\n",
       " '掃碼',\n",
       " '支付',\n",
       " '」',\n",
       " '跨境',\n",
       " 'Ｏ',\n",
       " '２',\n",
       " 'Ｏ',\n",
       " '創新',\n",
       " '金融',\n",
       " '服務',\n",
       " '，',\n",
       " '陸客',\n",
       " '只要',\n",
       " '透過',\n",
       " '支付',\n",
       " '寶',\n",
       " ' ',\n",
       " '錢',\n",
       " '包',\n",
       " '，',\n",
       " '就',\n",
       " '可以',\n",
       " '在',\n",
       " '台灣',\n",
       " '各',\n",
       " '大',\n",
       " '百貨',\n",
       " '、',\n",
       " '連鎖',\n",
       " '超商',\n",
       " '、',\n",
       " '夜市',\n",
       " '、',\n",
       " '商圈',\n",
       " '等',\n",
       " '進行',\n",
       " '消費',\n",
       " '，',\n",
       " '預計',\n",
       " '將',\n",
       " '有',\n",
       " '超過',\n",
       " '五千',\n",
       " '家',\n",
       " ' ',\n",
       " '商店',\n",
       " '加入',\n",
       " '手機',\n",
       " '掃碼',\n",
       " '支付',\n",
       " '行列',\n",
       " '，',\n",
       " '為',\n",
       " '全',\n",
       " '台',\n",
       " '提供',\n",
       " '最多',\n",
       " '商戶',\n",
       " '使用',\n",
       " '的',\n",
       " '銀行',\n",
       " '。',\n",
       " '玉山銀行',\n",
       " '指出',\n",
       " '，',\n",
       " '為',\n",
       " '推廣',\n",
       " '更多',\n",
       " '陸客',\n",
       " '來',\n",
       " '台',\n",
       " '使用',\n",
       " '，',\n",
       " '日前',\n",
       " '搭配',\n",
       " '雙',\n",
       " '十二',\n",
       " '話題',\n",
       " '，',\n",
       " '支付寶',\n",
       " '推出',\n",
       " '雙',\n",
       " '十二',\n",
       " '活動',\n",
       " ' ',\n",
       " '，',\n",
       " '包含',\n",
       " '百貨',\n",
       " '、',\n",
       " '超商',\n",
       " '、',\n",
       " '名',\n",
       " '特產店',\n",
       " '等',\n",
       " '，',\n",
       " '使用',\n",
       " '支付',\n",
       " '寶',\n",
       " '付款',\n",
       " '可',\n",
       " '獲得',\n",
       " '八',\n",
       " '折',\n",
       " '以上',\n",
       " '的',\n",
       " '優惠',\n",
       " '，',\n",
       " '夜市',\n",
       " '商圈',\n",
       " '更',\n",
       " '有',\n",
       " ' ',\n",
       " '一',\n",
       " '元',\n",
       " '享',\n",
       " '美食',\n",
       " '活動',\n",
       " '，',\n",
       " '每',\n",
       " '位',\n",
       " '支付寶',\n",
       " '用戶',\n",
       " '皆',\n",
       " '可以',\n",
       " '一',\n",
       " '元',\n",
       " '人民幣',\n",
       " '兌換',\n",
       " '一百',\n",
       " '元',\n",
       " '新台幣',\n",
       " '以下',\n",
       " '的',\n",
       " '夜市',\n",
       " '美食',\n",
       " '，',\n",
       " ' ',\n",
       " '雙',\n",
       " '十',\n",
       " '二',\n",
       " '當天',\n",
       " '更',\n",
       " '祭出',\n",
       " '合作',\n",
       " '商家',\n",
       " '最',\n",
       " '低',\n",
       " '五',\n",
       " '折',\n",
       " '的',\n",
       " '優惠',\n",
       " '，',\n",
       " '全',\n",
       " '額',\n",
       " '由',\n",
       " '支付寶',\n",
       " '贊助',\n",
       " '，',\n",
       " '行銷',\n",
       " '台灣',\n",
       " '的',\n",
       " '美食',\n",
       " '與',\n",
       " '商圈',\n",
       " ' ',\n",
       " '。',\n",
       " '玉山銀行',\n",
       " '聚焦',\n",
       " '金融',\n",
       " '創新',\n",
       " '，',\n",
       " '提供',\n",
       " '最好',\n",
       " '的',\n",
       " '數位',\n",
       " '金融',\n",
       " '服務',\n",
       " '，',\n",
       " '與',\n",
       " '支付寶',\n",
       " '合作',\n",
       " '，',\n",
       " '提供',\n",
       " '陸客',\n",
       " '最',\n",
       " '熟悉',\n",
       " '的',\n",
       " '支',\n",
       " ' 付',\n",
       " '服務',\n",
       " '。',\n",
       " '陸客',\n",
       " '來',\n",
       " '台',\n",
       " '消費',\n",
       " '只要',\n",
       " '出示',\n",
       " '支付',\n",
       " '寶',\n",
       " '手機',\n",
       " '條碼',\n",
       " '，',\n",
       " '過',\n",
       " '刷',\n",
       " '商店',\n",
       " '的',\n",
       " '收銀機',\n",
       " '或',\n",
       " '行動',\n",
       " '裝置',\n",
       " 'App',\n",
       " '，',\n",
       " '即',\n",
       " ' ',\n",
       " '可',\n",
       " '立即',\n",
       " '付款',\n",
       " '。',\n",
       " '小',\n",
       " '攤商',\n",
       " '則',\n",
       " '可',\n",
       " '直接',\n",
       " '掃描',\n",
       " '商家',\n",
       " 'QRcode',\n",
       " '，',\n",
       " '輸入',\n",
       " '新台幣',\n",
       " '金額',\n",
       " '，',\n",
       " '就',\n",
       " '能',\n",
       " '完成',\n",
       " '結帳',\n",
       " '程序',\n",
       " '，',\n",
       " '商',\n",
       " ' 家',\n",
       " '也',\n",
       " '可',\n",
       " '同時',\n",
       " '收到',\n",
       " '付款',\n",
       " '通知',\n",
       " '，',\n",
       " '目前',\n",
       " '包含',\n",
       " '屈臣氏',\n",
       " '等',\n",
       " '美妝店',\n",
       " '以及',\n",
       " '寧夏',\n",
       " '夜市',\n",
       " '等',\n",
       " '著名',\n",
       " '商圈',\n",
       " '，',\n",
       " '皆',\n",
       " '已',\n",
       " '開始',\n",
       " ' ',\n",
       " '有',\n",
       " '陸客',\n",
       " '使用',\n",
       " '支付',\n",
       " '寶',\n",
       " '交易',\n",
       " '，',\n",
       " '對',\n",
       " '國內',\n",
       " '消費',\n",
       " '市場',\n",
       " '與',\n",
       " '產業',\n",
       " '發展',\n",
       " '都',\n",
       " '將',\n",
       " '是',\n",
       " '一',\n",
       " '大',\n",
       " '利器',\n",
       " '。',\n",
       " '電商',\n",
       " '龍頭',\n",
       " '商店',\n",
       " '街市集',\n",
       " '(',\n",
       " '4965',\n",
       " ')',\n",
       " '旗下子公司',\n",
       " 'PChomePay',\n",
       " '支付',\n",
       " '連',\n",
       " '，',\n",
       " '與',\n",
       " '台灣',\n",
       " '票據',\n",
       " '交換所',\n",
       " '、',\n",
       " '上海商銀',\n",
       " ' ',\n",
       " '共同',\n",
       " '宣布',\n",
       " '推出',\n",
       " '首創',\n",
       " '全',\n",
       " '台',\n",
       " '電子',\n",
       " '商務',\n",
       " '網路',\n",
       " '支付',\n",
       " '，',\n",
       " '以',\n",
       " 'eACH',\n",
       " '平台',\n",
       " '進行',\n",
       " '銀行',\n",
       " '帳戶線',\n",
       " '上',\n",
       " '扣款',\n",
       " '服務',\n",
       " '。',\n",
       " '電子',\n",
       " '支付',\n",
       " '終極',\n",
       " ' ',\n",
       " '綁定',\n",
       " '銀行',\n",
       " '帳戶',\n",
       " ' ',\n",
       " ' ',\n",
       " 'PChomePay',\n",
       " '支付',\n",
       " '連自',\n",
       " '推出',\n",
       " '線',\n",
       " '上',\n",
       " '立即',\n",
       " '開通',\n",
       " '信用卡',\n",
       " '刷卡',\n",
       " '服務',\n",
       " '後',\n",
       " '，',\n",
       " '讓',\n",
       " '台灣',\n",
       " '的',\n",
       " '微型',\n",
       " '商家',\n",
       " '和',\n",
       " '個人',\n",
       " '賣家',\n",
       " ' ',\n",
       " '能夠',\n",
       " '接受',\n",
       " '信用卡',\n",
       " '付款',\n",
       " '，',\n",
       " '為',\n",
       " '加速',\n",
       " '完成',\n",
       " '電子',\n",
       " '商務',\n",
       " '交易',\n",
       " '的',\n",
       " '速度',\n",
       " '，',\n",
       " '即日',\n",
       " '起',\n",
       " '再',\n",
       " '推出',\n",
       " '「',\n",
       " 'PChomePay',\n",
       " '支付',\n",
       " ' ',\n",
       " '連',\n",
       " '銀行',\n",
       " '支付',\n",
       " '」',\n",
       " '服務',\n",
       " '，',\n",
       " '讓',\n",
       " '網購',\n",
       " '交易',\n",
       " '更',\n",
       " '快速',\n",
       " '、',\n",
       " '便利',\n",
       " '。',\n",
       " '透過',\n",
       " '「',\n",
       " 'PChomePay',\n",
       " '支付',\n",
       " '連',\n",
       " '銀行',\n",
       " '支付',\n",
       " '」',\n",
       " '服務',\n",
       " '，',\n",
       " '露天',\n",
       " '拍賣',\n",
       " '買家',\n",
       " '即可',\n",
       " '線',\n",
       " '上',\n",
       " '立即',\n",
       " '申請',\n",
       " '台灣',\n",
       " '票據',\n",
       " '交換',\n",
       " ' ',\n",
       " '所',\n",
       " '的',\n",
       " '電子',\n",
       " '化',\n",
       " '授權',\n",
       " '交易',\n",
       " '(',\n",
       " 'eDDA',\n",
       " ')',\n",
       " '，',\n",
       " '完成',\n",
       " '線',\n",
       " '上',\n",
       " '認證',\n",
       " '、',\n",
       " '設定',\n",
       " '帳戶',\n",
       " '後',\n",
       " '，',\n",
       " '可',\n",
       " '享有',\n",
       " '銀行',\n",
       " '帳戶',\n",
       " '立即',\n",
       " '扣款',\n",
       " ' ',\n",
       " '(',\n",
       " 'eACH',\n",
       " ')',\n",
       " '的',\n",
       " '服務',\n",
       " '，',\n",
       " '讓',\n",
       " '買家',\n",
       " '可',\n",
       " '透過',\n",
       " 'PChomePay',\n",
       " '支付',\n",
       " '連',\n",
       " '的',\n",
       " '銀行',\n",
       " '支付',\n",
       " '服務',\n",
       " '，',\n",
       " '於',\n",
       " '線',\n",
       " '上',\n",
       " '就',\n",
       " '能',\n",
       " '快速',\n",
       " '藉由',\n",
       " '銀',\n",
       " ' 行',\n",
       " '帳戶',\n",
       " '以',\n",
       " '完成',\n",
       " '電子',\n",
       " '商務',\n",
       " '的',\n",
       " '支付',\n",
       " '，',\n",
       " '體驗',\n",
       " '快捷',\n",
       " '、',\n",
       " '安心',\n",
       " '、',\n",
       " '便利',\n",
       " '的',\n",
       " '網路',\n",
       " '交易',\n",
       " '經驗',\n",
       " '。',\n",
       " 'PChomePay',\n",
       " '支付',\n",
       " '連',\n",
       " '董事長',\n",
       " '詹宏志',\n",
       " '表示',\n",
       " '，',\n",
       " '「',\n",
       " '綁定',\n",
       " '銀行',\n",
       " '帳戶',\n",
       " '已',\n",
       " '是',\n",
       " '全',\n",
       " '世界',\n",
       " '電子',\n",
       " '支付',\n",
       " '的',\n",
       " '終極',\n",
       " '型態',\n",
       " '，',\n",
       " ' ',\n",
       " '也',\n",
       " '是',\n",
       " '電子',\n",
       " '支付',\n",
       " '發展',\n",
       " '的',\n",
       " '最後',\n",
       " '型態',\n",
       " '，',\n",
       " '對',\n",
       " '支付',\n",
       " '連來',\n",
       " '說',\n",
       " '也',\n",
       " '是',\n",
       " '最',\n",
       " '重要',\n",
       " '的',\n",
       " '一',\n",
       " '步',\n",
       " '；',\n",
       " '金錢',\n",
       " '的',\n",
       " '移動',\n",
       " '從',\n",
       " '過去',\n",
       " '的',\n",
       " '個',\n",
       " ' 人',\n",
       " '支票',\n",
       " '，',\n",
       " '演化',\n",
       " '到',\n",
       " '金融卡',\n",
       " '，',\n",
       " '現在',\n",
       " '則',\n",
       " '是',\n",
       " '透過',\n",
       " '銀行',\n",
       " '帳戶',\n",
       " '綁定',\n",
       " '，',\n",
       " '將',\n",
       " '電子',\n",
       " '支付',\n",
       " '完成',\n",
       " '緊密',\n",
       " '的',\n",
       " '串接',\n",
       " '。',\n",
       " '因為',\n",
       " ' ',\n",
       " '透過',\n",
       " '這',\n",
       " '個',\n",
       " '服務',\n",
       " '，',\n",
       " '錢',\n",
       " '的',\n",
       " '移動',\n",
       " '是',\n",
       " '以',\n",
       " '最',\n",
       " '無',\n",
       " '障礙',\n",
       " '、',\n",
       " '最',\n",
       " '自然',\n",
       " '的',\n",
       " '方式',\n",
       " '在',\n",
       " '移轉',\n",
       " '，',\n",
       " '讓',\n",
       " '使用者',\n",
       " '不',\n",
       " '需要',\n",
       " '每',\n",
       " '次',\n",
       " '都',\n",
       " '輸',\n",
       " ' ',\n",
       " '入',\n",
       " '帳號',\n",
       " '，',\n",
       " '也',\n",
       " '不用',\n",
       " '留下',\n",
       " '帳戶',\n",
       " '資料',\n",
       " '給',\n",
       " '成千上萬',\n",
       " '的',\n",
       " '賣家',\n",
       " '，',\n",
       " '是',\n",
       " '最',\n",
       " '便利',\n",
       " '且',\n",
       " '安全',\n",
       " '的',\n",
       " '支付',\n",
       " '方式',\n",
       " '，',\n",
       " '也',\n",
       " '讓',\n",
       " '台灣',\n",
       " ' ',\n",
       " '電子',\n",
       " '支付',\n",
       " '真正',\n",
       " '做到',\n",
       " '無縫',\n",
       " '接軌',\n",
       " '。',\n",
       " '」',\n",
       " ' ',\n",
       " ' ',\n",
       " '3',\n",
       " '.',\n",
       " '心得',\n",
       " '/',\n",
       " '評論',\n",
       " '(',\n",
       " '必需',\n",
       " '填寫',\n",
       " ')',\n",
       " '：',\n",
       " ' ',\n",
       " ...]"
      ]
     },
     "execution_count": 96,
     "metadata": {},
     "output_type": "execute_result"
    }
   ],
   "source": [
    "sentence_list = utils.short_sentence(df['content'][0])\n",
    "\n",
    "tokens = []\n",
    "for sentence in sentence_list:\n",
    "    tokens.extend(monpa.cut(sentence))\n",
    "tokens"
   ]
  },
  {
   "cell_type": "markdown",
   "metadata": {},
   "source": [
    "# 4. sklearn"
   ]
  },
  {
   "cell_type": "markdown",
   "metadata": {},
   "source": [
    "### (1). linear regression"
   ]
  },
  {
   "cell_type": "code",
   "execution_count": 98,
   "metadata": {
    "ExecuteTime": {
     "end_time": "2022-03-29T08:31:46.372655Z",
     "start_time": "2022-03-29T08:31:46.368615Z"
    }
   },
   "outputs": [],
   "source": [
    "from sklearn import datasets\n",
    "from sklearn.linear_model import LinearRegression\n",
    "from sklearn.model_selection import train_test_split\n",
    "from sklearn.metrics import mean_squared_error"
   ]
  },
  {
   "cell_type": "code",
   "execution_count": 99,
   "metadata": {
    "ExecuteTime": {
     "end_time": "2022-03-29T08:31:46.636405Z",
     "start_time": "2022-03-29T08:31:46.619484Z"
    }
   },
   "outputs": [],
   "source": [
    "df = datasets.fetch_california_housing()"
   ]
  },
  {
   "cell_type": "code",
   "execution_count": 100,
   "metadata": {
    "ExecuteTime": {
     "end_time": "2022-03-29T08:31:46.826775Z",
     "start_time": "2022-03-29T08:31:46.813747Z"
    }
   },
   "outputs": [],
   "source": [
    "X_train, X_test, y_train, y_test = train_test_split(df['data'], df['target'], test_size = .2)"
   ]
  },
  {
   "cell_type": "code",
   "execution_count": 105,
   "metadata": {
    "ExecuteTime": {
     "end_time": "2022-03-29T08:32:04.451840Z",
     "start_time": "2022-03-29T08:32:04.380502Z"
    }
   },
   "outputs": [],
   "source": [
    "lr = LinearRegression()\n",
    "lr.fit(X_train, y_train)\n",
    "y_pred = lr.predict(X_test)"
   ]
  },
  {
   "cell_type": "code",
   "execution_count": 107,
   "metadata": {
    "ExecuteTime": {
     "end_time": "2022-03-29T08:32:09.777921Z",
     "start_time": "2022-03-29T08:32:09.763246Z"
    }
   },
   "outputs": [
    {
     "data": {
      "text/plain": [
       "0.5193479601463054"
      ]
     },
     "execution_count": 107,
     "metadata": {},
     "output_type": "execute_result"
    }
   ],
   "source": [
    "mean_squared_error(y_test, y_pred)"
   ]
  },
  {
   "cell_type": "markdown",
   "metadata": {},
   "source": [
    "### (2). logistic regression"
   ]
  },
  {
   "cell_type": "code",
   "execution_count": 127,
   "metadata": {
    "ExecuteTime": {
     "end_time": "2022-03-29T08:35:53.629631Z",
     "start_time": "2022-03-29T08:35:53.625240Z"
    }
   },
   "outputs": [],
   "source": [
    "from sklearn import datasets\n",
    "from sklearn.linear_model import LogisticRegression\n",
    "from sklearn.model_selection import train_test_split\n",
    "from sklearn.metrics import accuracy_score, confusion_matrix"
   ]
  },
  {
   "cell_type": "code",
   "execution_count": 109,
   "metadata": {
    "ExecuteTime": {
     "end_time": "2022-03-29T08:32:57.010464Z",
     "start_time": "2022-03-29T08:32:57.002106Z"
    }
   },
   "outputs": [],
   "source": [
    "df = datasets.load_iris()"
   ]
  },
  {
   "cell_type": "code",
   "execution_count": 112,
   "metadata": {
    "ExecuteTime": {
     "end_time": "2022-03-29T08:34:08.802474Z",
     "start_time": "2022-03-29T08:34:08.798612Z"
    }
   },
   "outputs": [],
   "source": [
    "X_train, X_test, y_train, y_test = train_test_split(df['data'], df['target'], test_size = .2)"
   ]
  },
  {
   "cell_type": "code",
   "execution_count": 117,
   "metadata": {
    "ExecuteTime": {
     "end_time": "2022-03-29T08:34:26.641781Z",
     "start_time": "2022-03-29T08:34:26.611173Z"
    }
   },
   "outputs": [],
   "source": [
    "clf = LogisticRegression(max_iter = 2000)\n",
    "clf.fit(X_train, y_train)\n",
    "y_pred = clf.predict(X_test)"
   ]
  },
  {
   "cell_type": "code",
   "execution_count": 118,
   "metadata": {
    "ExecuteTime": {
     "end_time": "2022-03-29T08:34:27.064144Z",
     "start_time": "2022-03-29T08:34:27.056975Z"
    }
   },
   "outputs": [
    {
     "data": {
      "text/plain": [
       "0.9666666666666667"
      ]
     },
     "execution_count": 118,
     "metadata": {},
     "output_type": "execute_result"
    }
   ],
   "source": [
    "accuracy_score(y_test, y_pred)"
   ]
  },
  {
   "cell_type": "code",
   "execution_count": 129,
   "metadata": {
    "ExecuteTime": {
     "end_time": "2022-03-29T08:36:14.643490Z",
     "start_time": "2022-03-29T08:36:14.633877Z"
    }
   },
   "outputs": [
    {
     "data": {
      "text/plain": [
       "array([[ 8,  0,  0],\n",
       "       [ 0, 14,  1],\n",
       "       [ 0,  0,  7]])"
      ]
     },
     "execution_count": 129,
     "metadata": {},
     "output_type": "execute_result"
    }
   ],
   "source": [
    "confusion_matrix(y_test, y_pred)"
   ]
  },
  {
   "cell_type": "markdown",
   "metadata": {},
   "source": [
    "### (3). clustering"
   ]
  },
  {
   "cell_type": "code",
   "execution_count": null,
   "metadata": {},
   "outputs": [],
   "source": [
    "from sklearn import datasets\n",
    "from sklearn.cluster import KMeans\n",
    "from sklearn.model_selection import train_test_split\n",
    "from sklearn.metrics import accuracy_score"
   ]
  },
  {
   "cell_type": "code",
   "execution_count": 107,
   "metadata": {
    "ExecuteTime": {
     "end_time": "2022-03-15T10:03:38.716901Z",
     "start_time": "2022-03-15T10:03:38.709081Z"
    }
   },
   "outputs": [],
   "source": [
    "df = datasets.load_iris()"
   ]
  },
  {
   "cell_type": "code",
   "execution_count": 108,
   "metadata": {
    "ExecuteTime": {
     "end_time": "2022-03-15T10:03:39.669085Z",
     "start_time": "2022-03-15T10:03:39.664532Z"
    }
   },
   "outputs": [],
   "source": [
    "X_train, X_test, y_train, y_test = train_test_split(df['data'], df['target'], test_size = .2)"
   ]
  },
  {
   "cell_type": "code",
   "execution_count": 112,
   "metadata": {
    "ExecuteTime": {
     "end_time": "2022-03-15T10:05:02.463412Z",
     "start_time": "2022-03-15T10:05:02.424820Z"
    }
   },
   "outputs": [],
   "source": [
    "kmeans = KMeans(n_clusters = 3)\n",
    "kmeans.fit(X_train)\n",
    "y_pred = kmeans.predict(X_test)"
   ]
  },
  {
   "cell_type": "code",
   "execution_count": 113,
   "metadata": {
    "ExecuteTime": {
     "end_time": "2022-03-15T10:05:03.100804Z",
     "start_time": "2022-03-15T10:05:03.092872Z"
    }
   },
   "outputs": [
    {
     "data": {
      "text/plain": [
       "array([1, 0, 0, 1, 2, 1, 1, 0, 1, 2, 1, 0, 0, 1, 2, 0, 0, 1, 1, 1, 2, 1,\n",
       "       2, 1, 0, 0, 0, 2, 0, 2], dtype=int32)"
      ]
     },
     "execution_count": 113,
     "metadata": {},
     "output_type": "execute_result"
    }
   ],
   "source": [
    "y_pred"
   ]
  }
 ],
 "metadata": {
  "kernelspec": {
   "display_name": "Python 3 (ipykernel)",
   "language": "python",
   "name": "python3"
  },
  "language_info": {
   "codemirror_mode": {
    "name": "ipython",
    "version": 3
   },
   "file_extension": ".py",
   "mimetype": "text/x-python",
   "name": "python",
   "nbconvert_exporter": "python",
   "pygments_lexer": "ipython3",
   "version": "3.9.12"
  }
 },
 "nbformat": 4,
 "nbformat_minor": 4
}
